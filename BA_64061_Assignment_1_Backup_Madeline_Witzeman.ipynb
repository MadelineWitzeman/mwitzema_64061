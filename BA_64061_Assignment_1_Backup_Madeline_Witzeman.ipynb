{
  "nbformat": 4,
  "nbformat_minor": 0,
  "metadata": {
    "colab": {
      "provenance": [],
      "toc_visible": true,
      "gpuType": "T4"
    },
    "kernelspec": {
      "name": "python3",
      "display_name": "Python 3"
    },
    "language_info": {
      "name": "python"
    },
    "accelerator": "GPU"
  },
  "cells": [
    {
      "cell_type": "markdown",
      "source": [
        "# Assignment 1: Neural Networks\n",
        "# BA 64061-003\n",
        "# Madeline Witzeman"
      ],
      "metadata": {
        "id": "H0ae2tCON1u2"
      }
    },
    {
      "cell_type": "markdown",
      "source": [
        "# First Step: Loading the IMDb dataset"
      ],
      "metadata": {
        "id": "FFpUW9cb5q45"
      }
    },
    {
      "cell_type": "code",
      "execution_count": 1,
      "metadata": {
        "id": "KfkNB2UEt-0o"
      },
      "outputs": [],
      "source": [
        "import tensorflow\n",
        "from tensorflow.keras.datasets import imdb\n",
        "(train_data, train_labels), (test_data, test_labels) = imdb.load_data(\n",
        "    num_words=10000)"
      ]
    },
    {
      "cell_type": "markdown",
      "source": [
        "# Second Step: Recreating the IMDb example studied in class so I have a baseline model to compare against when trying to improve model performance"
      ],
      "metadata": {
        "id": "itBMVqQ_6YHI"
      }
    },
    {
      "cell_type": "markdown",
      "source": [
        "## Preparing the data\n",
        "\n",
        "Encoding the integer sequences via multi-hot encoding so the data is ready to be fed into a neural network"
      ],
      "metadata": {
        "id": "gFSdbqUtCq8I"
      }
    },
    {
      "cell_type": "code",
      "source": [
        "import numpy as np\n",
        "def vectorize_sequences(sequences, dimension=10000):\n",
        "    results = np.zeros((len(sequences), dimension))\n",
        "    for i, sequence in enumerate(sequences):\n",
        "        for j in sequence:\n",
        "            results[i, j] = 1.\n",
        "    return results\n",
        "x_train = vectorize_sequences(train_data)\n",
        "x_test = vectorize_sequences(test_data)"
      ],
      "metadata": {
        "id": "GVmmts1hDJzh"
      },
      "execution_count": 2,
      "outputs": []
    },
    {
      "cell_type": "markdown",
      "source": [
        "Vectorizing labels:"
      ],
      "metadata": {
        "id": "lvzrkLvEDr1Q"
      }
    },
    {
      "cell_type": "code",
      "source": [
        "y_train = np.asarray(train_labels).astype(\"float32\")\n",
        "y_test = np.asarray(test_labels).astype(\"float32\")"
      ],
      "metadata": {
        "id": "LeHWAj3kDmL7"
      },
      "execution_count": 3,
      "outputs": []
    },
    {
      "cell_type": "markdown",
      "source": [
        "## Building the model"
      ],
      "metadata": {
        "id": "gpsiqFErEblP"
      }
    },
    {
      "cell_type": "markdown",
      "source": [
        "Defining the model:"
      ],
      "metadata": {
        "id": "A2lAqi__EG7H"
      }
    },
    {
      "cell_type": "code",
      "source": [
        "from tensorflow import keras\n",
        "from tensorflow.keras import layers\n",
        "\n",
        "model = keras.Sequential([\n",
        "    layers.Dense(16, activation=\"relu\"),\n",
        "    layers.Dense(16, activation=\"relu\"),\n",
        "    layers.Dense(1, activation=\"sigmoid\")\n",
        "])"
      ],
      "metadata": {
        "id": "U8U-gX4xEJXK"
      },
      "execution_count": 4,
      "outputs": []
    },
    {
      "cell_type": "markdown",
      "source": [
        "Compiling the model:"
      ],
      "metadata": {
        "id": "x_dSWLx4bgX7"
      }
    },
    {
      "cell_type": "code",
      "source": [
        "model.compile(optimizer=\"rmsprop\",\n",
        "              loss=\"binary_crossentropy\",\n",
        "              metrics=[\"accuracy\"])"
      ],
      "metadata": {
        "id": "okh7W2oubjCh"
      },
      "execution_count": 5,
      "outputs": []
    },
    {
      "cell_type": "markdown",
      "source": [
        "## Validating approach"
      ],
      "metadata": {
        "id": "6Kwrb6eYdYJM"
      }
    },
    {
      "cell_type": "markdown",
      "source": [
        "Setting aside validation set:"
      ],
      "metadata": {
        "id": "YNbwY2FRddlm"
      }
    },
    {
      "cell_type": "code",
      "source": [
        "x_val = x_train[:10000]\n",
        "partial_x_train = x_train[10000:]\n",
        "y_val = y_train[:10000]\n",
        "partial_y_train = y_train[10000:]"
      ],
      "metadata": {
        "id": "HAt-b7BlddBR"
      },
      "execution_count": 6,
      "outputs": []
    },
    {
      "cell_type": "markdown",
      "source": [
        "Training the model (using epoch = 4, determined as best epoch value in the textbook):"
      ],
      "metadata": {
        "id": "OWewmvcIdpKp"
      }
    },
    {
      "cell_type": "code",
      "source": [
        "history = model.fit(partial_x_train,\n",
        "                    partial_y_train,\n",
        "                    epochs=4,\n",
        "                    batch_size=512,\n",
        "                    validation_data=(x_val, y_val))"
      ],
      "metadata": {
        "colab": {
          "base_uri": "https://localhost:8080/"
        },
        "id": "uBbpuEvRdqjj",
        "outputId": "b4c6c5c6-9155-4766-a7f1-3bcea06176c3"
      },
      "execution_count": 7,
      "outputs": [
        {
          "output_type": "stream",
          "name": "stdout",
          "text": [
            "Epoch 1/4\n",
            "30/30 [==============================] - 4s 87ms/step - loss: 0.5538 - accuracy: 0.7741 - val_loss: 0.4346 - val_accuracy: 0.8538\n",
            "Epoch 2/4\n",
            "30/30 [==============================] - 1s 37ms/step - loss: 0.3514 - accuracy: 0.8915 - val_loss: 0.3323 - val_accuracy: 0.8768\n",
            "Epoch 3/4\n",
            "30/30 [==============================] - 1s 38ms/step - loss: 0.2628 - accuracy: 0.9113 - val_loss: 0.2960 - val_accuracy: 0.8835\n",
            "Epoch 4/4\n",
            "30/30 [==============================] - 1s 37ms/step - loss: 0.2099 - accuracy: 0.9296 - val_loss: 0.3091 - val_accuracy: 0.8732\n"
          ]
        }
      ]
    },
    {
      "cell_type": "code",
      "source": [
        "results = model.evaluate(x_test, y_test)\n",
        "results"
      ],
      "metadata": {
        "colab": {
          "base_uri": "https://localhost:8080/"
        },
        "id": "XmRguo11egpa",
        "outputId": "57cba57b-6f95-43fb-a739-254c4e5a781a"
      },
      "execution_count": 10,
      "outputs": [
        {
          "output_type": "stream",
          "name": "stdout",
          "text": [
            "782/782 [==============================] - 2s 2ms/step - loss: 0.3193 - accuracy: 0.8756\n"
          ]
        },
        {
          "output_type": "execute_result",
          "data": {
            "text/plain": [
              "[0.3192662000656128, 0.8755599856376648]"
            ]
          },
          "metadata": {},
          "execution_count": 10
        }
      ]
    },
    {
      "cell_type": "markdown",
      "source": [
        "Using two hidden layers, 16 hidden units, binary_crossentropy loss function, relu activation, and epoch = 4 yields 88.34% accuracy on the validation dataset and 87.69% accuracy on the test dataset, on average."
      ],
      "metadata": {
        "id": "MCQP4Bp8fCw0"
      }
    },
    {
      "cell_type": "markdown",
      "source": [
        "Since the neural network I'm utilizing implements stochastic learning, the model produces different validation and test accuracies each time it is run. To arrive at the validation and test accuracies for each model, I will take the average of 5 runs:\n",
        "\n",
        "1.   Val: .8837; Test: .8789\n",
        "2.   Val: .8762; Test: .8666\n",
        "3.   Val: .8846; Test: .8785\n",
        "4.   Val: .8879; Test: .8847\n",
        "5.   Val: .8847; Test: .8756\n",
        "\n",
        "Average - Val: .8834; Test: .8769\n",
        "\n"
      ],
      "metadata": {
        "id": "4DIWEW1wKCSA"
      }
    },
    {
      "cell_type": "markdown",
      "source": [
        "Now that I know the validation and test accuracy of the baseline model, I'm going to try various approaches to improve the model's performance by altering one component at a time."
      ],
      "metadata": {
        "id": "XTJg-SSvoXVz"
      }
    },
    {
      "cell_type": "markdown",
      "source": [
        "# Next approach: Using one hidden layer instead of two hidden layers"
      ],
      "metadata": {
        "id": "0aaTzLI-oKkl"
      }
    },
    {
      "cell_type": "markdown",
      "source": [
        "## Retraining the model"
      ],
      "metadata": {
        "id": "wuZwrMJyowTE"
      }
    },
    {
      "cell_type": "code",
      "source": [
        "model_2 = keras.Sequential([\n",
        "    layers.Dense(16, activation=\"relu\"),\n",
        "    layers.Dense(1, activation=\"sigmoid\")\n",
        "])\n",
        "model_2.compile(optimizer=\"rmsprop\",\n",
        "              loss=\"binary_crossentropy\",\n",
        "              metrics=[\"accuracy\"])\n",
        "model_2.fit(partial_x_train, partial_y_train, epochs=4, batch_size=512, validation_data=(x_val, y_val))\n",
        "results = model_2.evaluate(x_test, y_test)\n",
        "results"
      ],
      "metadata": {
        "colab": {
          "base_uri": "https://localhost:8080/"
        },
        "id": "IWngIJHtoy5I",
        "outputId": "7e861a6e-3c1f-42d2-9b63-1d811ee7ebea"
      },
      "execution_count": 9,
      "outputs": [
        {
          "output_type": "stream",
          "name": "stdout",
          "text": [
            "Epoch 1/4\n",
            "30/30 [==============================] - 4s 98ms/step - loss: 0.5246 - accuracy: 0.7867 - val_loss: 0.4172 - val_accuracy: 0.8623\n",
            "Epoch 2/4\n",
            "30/30 [==============================] - 1s 45ms/step - loss: 0.3566 - accuracy: 0.8870 - val_loss: 0.3439 - val_accuracy: 0.8783\n",
            "Epoch 3/4\n",
            "30/30 [==============================] - 1s 37ms/step - loss: 0.2827 - accuracy: 0.9114 - val_loss: 0.3057 - val_accuracy: 0.8857\n",
            "Epoch 4/4\n",
            "30/30 [==============================] - 1s 36ms/step - loss: 0.2365 - accuracy: 0.9234 - val_loss: 0.2962 - val_accuracy: 0.8817\n",
            "782/782 [==============================] - 2s 3ms/step - loss: 0.3101 - accuracy: 0.8757\n"
          ]
        },
        {
          "output_type": "execute_result",
          "data": {
            "text/plain": [
              "[0.31009921431541443, 0.8757200241088867]"
            ]
          },
          "metadata": {},
          "execution_count": 9
        }
      ]
    },
    {
      "cell_type": "markdown",
      "source": [
        "## Results"
      ],
      "metadata": {
        "id": "Z1qRMpdhppMz"
      }
    },
    {
      "cell_type": "markdown",
      "source": [
        "Using only one hidden layer increases the validation accuracy to 88.88% and the test accuracy to 88.26%."
      ],
      "metadata": {
        "id": "2mTlwVD4prtc"
      }
    },
    {
      "cell_type": "markdown",
      "source": [
        "Run data:\n",
        "\n",
        "\n",
        "1.   Val: .8868; Test: .8786\n",
        "2.   Val: .8894; Test: .8839\n",
        "3.   Val: .8894; Test: .8836\n",
        "4.   Val: .8890; Test: .8839\n",
        "5.   Val: .8894; Test: .8832\n",
        "\n",
        "Average - Val: .8888; Test: .8826\n",
        "\n"
      ],
      "metadata": {
        "id": "2AK-jJ7ZL44D"
      }
    },
    {
      "cell_type": "markdown",
      "source": [
        "# Using three hidden layers instead of two hidden layers"
      ],
      "metadata": {
        "id": "FPEb0kfRrwNd"
      }
    },
    {
      "cell_type": "markdown",
      "source": [
        "## Retraining the model"
      ],
      "metadata": {
        "id": "bJRACtF_r3Od"
      }
    },
    {
      "cell_type": "code",
      "source": [
        "model_3 = keras.Sequential([\n",
        "    layers.Dense(16, activation=\"relu\"),\n",
        "    layers.Dense(16, activation=\"relu\"),\n",
        "    layers.Dense(16, activation=\"relu\"),\n",
        "    layers.Dense(1, activation=\"sigmoid\")\n",
        "])\n",
        "model_3.compile(optimizer=\"rmsprop\",\n",
        "              loss=\"binary_crossentropy\",\n",
        "              metrics=[\"accuracy\"])\n",
        "model_3.fit(partial_x_train, partial_y_train, epochs=4, batch_size=512, validation_data=(x_val, y_val))\n",
        "results = model_3.evaluate(x_test, y_test)\n",
        "results"
      ],
      "metadata": {
        "colab": {
          "base_uri": "https://localhost:8080/"
        },
        "id": "_zLmh--Xr6YX",
        "outputId": "7810b05d-609d-4d0d-9e3e-25230aff32eb"
      },
      "execution_count": 13,
      "outputs": [
        {
          "output_type": "stream",
          "name": "stdout",
          "text": [
            "Epoch 1/4\n",
            "30/30 [==============================] - 3s 69ms/step - loss: 0.5717 - accuracy: 0.7588 - val_loss: 0.4415 - val_accuracy: 0.8590\n",
            "Epoch 2/4\n",
            "30/30 [==============================] - 1s 35ms/step - loss: 0.3552 - accuracy: 0.8870 - val_loss: 0.3224 - val_accuracy: 0.8837\n",
            "Epoch 3/4\n",
            "30/30 [==============================] - 1s 36ms/step - loss: 0.2570 - accuracy: 0.9134 - val_loss: 0.3015 - val_accuracy: 0.8820\n",
            "Epoch 4/4\n",
            "30/30 [==============================] - 1s 36ms/step - loss: 0.2014 - accuracy: 0.9341 - val_loss: 0.2838 - val_accuracy: 0.8857\n",
            "782/782 [==============================] - 2s 2ms/step - loss: 0.2959 - accuracy: 0.8813\n"
          ]
        },
        {
          "output_type": "execute_result",
          "data": {
            "text/plain": [
              "[0.29587337374687195, 0.8813199996948242]"
            ]
          },
          "metadata": {},
          "execution_count": 13
        }
      ]
    },
    {
      "cell_type": "markdown",
      "source": [
        "## Results"
      ],
      "metadata": {
        "id": "DvPo7ynhssbs"
      }
    },
    {
      "cell_type": "markdown",
      "source": [
        "Using three hidden layers slightly increased the validation accuracy to 88.52% and the test accuracy to 87.94%."
      ],
      "metadata": {
        "id": "EXzt2lausuUR"
      }
    },
    {
      "cell_type": "markdown",
      "source": [
        "Run data:\n",
        "\n",
        "\n",
        "1.   Val: .8890; Test: .8827\n",
        "2.   Val: .8900; Test: .8840\n",
        "3.   Val: .8879; Test: .8822\n",
        "4.   Val: .8735; Test: .8668\n",
        "5.   Val: .8857; Test: .8813\n",
        "\n",
        "Average - Val: .8852; Test: .8794\n",
        "\n"
      ],
      "metadata": {
        "id": "b7kYQA3VSmKS"
      }
    },
    {
      "cell_type": "markdown",
      "source": [
        "## Using one hidden layer produced the best validation and test performance"
      ],
      "metadata": {
        "id": "Swq1yg7IVy02"
      }
    },
    {
      "cell_type": "markdown",
      "source": [
        "# Increasing hidden units to 32 instead of 16"
      ],
      "metadata": {
        "id": "XrdRaNXKv0po"
      }
    },
    {
      "cell_type": "markdown",
      "source": [
        "## Retraining the model"
      ],
      "metadata": {
        "id": "FMbg2vdZv9Pg"
      }
    },
    {
      "cell_type": "code",
      "source": [
        "model_4 = keras.Sequential([\n",
        "    layers.Dense(32, activation=\"relu\"),\n",
        "    layers.Dense(32, activation=\"relu\"),\n",
        "    layers.Dense(1, activation=\"sigmoid\")\n",
        "])\n",
        "model_4.compile(optimizer=\"rmsprop\",\n",
        "              loss=\"binary_crossentropy\",\n",
        "              metrics=[\"accuracy\"])\n",
        "model_4.fit(partial_x_train, partial_y_train, epochs=4, batch_size=512, validation_data=(x_val, y_val))\n",
        "results = model_4.evaluate(x_test, y_test)\n",
        "results"
      ],
      "metadata": {
        "colab": {
          "base_uri": "https://localhost:8080/"
        },
        "id": "sV-RvOviv_I3",
        "outputId": "eac693dd-c67b-4875-f6de-e76cfaac3873"
      },
      "execution_count": 12,
      "outputs": [
        {
          "output_type": "stream",
          "name": "stdout",
          "text": [
            "Epoch 1/4\n",
            "30/30 [==============================] - 3s 87ms/step - loss: 0.5152 - accuracy: 0.7737 - val_loss: 0.3769 - val_accuracy: 0.8661\n",
            "Epoch 2/4\n",
            "30/30 [==============================] - 2s 53ms/step - loss: 0.3044 - accuracy: 0.8942 - val_loss: 0.3199 - val_accuracy: 0.8688\n",
            "Epoch 3/4\n",
            "30/30 [==============================] - 2s 53ms/step - loss: 0.2252 - accuracy: 0.9209 - val_loss: 0.3100 - val_accuracy: 0.8723\n",
            "Epoch 4/4\n",
            "30/30 [==============================] - 1s 43ms/step - loss: 0.1903 - accuracy: 0.9309 - val_loss: 0.2778 - val_accuracy: 0.8874\n",
            "782/782 [==============================] - 2s 3ms/step - loss: 0.2904 - accuracy: 0.8825\n"
          ]
        },
        {
          "output_type": "execute_result",
          "data": {
            "text/plain": [
              "[0.2903912663459778, 0.8824800252914429]"
            ]
          },
          "metadata": {},
          "execution_count": 12
        }
      ]
    },
    {
      "cell_type": "markdown",
      "source": [
        "## Results"
      ],
      "metadata": {
        "id": "V26Qmygf0tk2"
      }
    },
    {
      "cell_type": "markdown",
      "source": [
        "Using 32 hidden units in hidden layers slightly decreased the validation accuracy to 88.09% and the test accuracy to 87.31%. Since performance decreased for both the validation and test sets, I won't use 32 hidden units moving forward.\n",
        "\n",
        "\n"
      ],
      "metadata": {
        "id": "Lk9Xapta0xKq"
      }
    },
    {
      "cell_type": "markdown",
      "source": [
        "Run data:\n",
        "\n",
        "\n",
        "1.   Val: .8815; Test: .8712\n",
        "2.   Val: .8880; Test: .8822\n",
        "3.   Val: .8607; Test: .8486\n",
        "4.   Val: .8869; Test: .8810\n",
        "5.   Val: .8874; Test: .8825\n",
        "\n",
        "Average - Val: .8809; Test: .8731\n",
        "\n"
      ],
      "metadata": {
        "id": "HOFPLtvzOpSY"
      }
    },
    {
      "cell_type": "markdown",
      "source": [
        "# Increasing hidden units to 64 instead of 16"
      ],
      "metadata": {
        "id": "lXwDxuiV3fjp"
      }
    },
    {
      "cell_type": "markdown",
      "source": [
        "## Retraining the model"
      ],
      "metadata": {
        "id": "zKqKJmYY3lp5"
      }
    },
    {
      "cell_type": "code",
      "source": [
        "model_5 = keras.Sequential([\n",
        "    layers.Dense(64, activation=\"relu\"),\n",
        "    layers.Dense(64, activation=\"relu\"),\n",
        "    layers.Dense(1, activation=\"sigmoid\")\n",
        "])\n",
        "model_5.compile(optimizer=\"rmsprop\",\n",
        "              loss=\"binary_crossentropy\",\n",
        "              metrics=[\"accuracy\"])\n",
        "model_5.fit(partial_x_train, partial_y_train, epochs=4, batch_size=512, validation_data=(x_val, y_val))\n",
        "results = model_5.evaluate(x_test, y_test)\n",
        "results"
      ],
      "metadata": {
        "id": "xCxpXQwm3nMh",
        "colab": {
          "base_uri": "https://localhost:8080/"
        },
        "outputId": "a2d71426-e1a7-4361-c77b-cd5acc3b7ad0"
      },
      "execution_count": 10,
      "outputs": [
        {
          "output_type": "stream",
          "name": "stdout",
          "text": [
            "Epoch 1/4\n",
            "30/30 [==============================] - 5s 123ms/step - loss: 0.5112 - accuracy: 0.7633 - val_loss: 0.3494 - val_accuracy: 0.8680\n",
            "Epoch 2/4\n",
            "30/30 [==============================] - 2s 66ms/step - loss: 0.2991 - accuracy: 0.8824 - val_loss: 0.2835 - val_accuracy: 0.8886\n",
            "Epoch 3/4\n",
            "30/30 [==============================] - 2s 67ms/step - loss: 0.2219 - accuracy: 0.9162 - val_loss: 0.2799 - val_accuracy: 0.8854\n",
            "Epoch 4/4\n",
            "30/30 [==============================] - 2s 66ms/step - loss: 0.1855 - accuracy: 0.9309 - val_loss: 0.3024 - val_accuracy: 0.8785\n",
            "782/782 [==============================] - 4s 5ms/step - loss: 0.3251 - accuracy: 0.8686\n"
          ]
        },
        {
          "output_type": "execute_result",
          "data": {
            "text/plain": [
              "[0.32506248354911804, 0.8685600161552429]"
            ]
          },
          "metadata": {},
          "execution_count": 10
        }
      ]
    },
    {
      "cell_type": "markdown",
      "source": [
        "## Results"
      ],
      "metadata": {
        "id": "n6twqX5V3zyI"
      }
    },
    {
      "cell_type": "markdown",
      "source": [
        "Using 64 hidden units in hidden layers decreased the validation accuracy notably to 87.13% and the test accuracy to 86.06%. It appears that adding hidden units decreases model performance when using 4 epoches. Given this information, I won't use 64 hidden units moving forward."
      ],
      "metadata": {
        "id": "iyFkddnu31rO"
      }
    },
    {
      "cell_type": "markdown",
      "source": [
        "Run data:\n",
        "\n",
        "\n",
        "1.   Val: .8646; Test: .8535\n",
        "2.   Val: .8882; Test: .8830\n",
        "3.   Val: .8613; Test: .8478\n",
        "4.   Val: .8637; Test: .8501\n",
        "5.   Val: .8785; Test: .8686\n",
        "\n",
        "Average - Val: .8713; Test: .8606\n",
        "\n"
      ],
      "metadata": {
        "id": "6I4-xTK2XMv7"
      }
    },
    {
      "cell_type": "markdown",
      "source": [
        "## Using 16 hidden units in hidden layers produced the best validation and test performance"
      ],
      "metadata": {
        "id": "9_VKAwJ4bN3L"
      }
    },
    {
      "cell_type": "markdown",
      "source": [
        "# Using MSE loss function instead of binary_crossentropy"
      ],
      "metadata": {
        "id": "MYpdV-i934pZ"
      }
    },
    {
      "cell_type": "markdown",
      "source": [
        "## Retraining the model"
      ],
      "metadata": {
        "id": "9-GcTiuk4CSB"
      }
    },
    {
      "cell_type": "code",
      "source": [
        "model_6 = keras.Sequential([\n",
        "    layers.Dense(16, activation=\"relu\"),\n",
        "    layers.Dense(16, activation=\"relu\"),\n",
        "    layers.Dense(1, activation=\"sigmoid\")\n",
        "])\n",
        "model_6.compile(optimizer=\"rmsprop\",\n",
        "              loss=\"mse\",\n",
        "              metrics=[\"accuracy\"])\n",
        "model_6.fit(partial_x_train, partial_y_train, epochs=4, batch_size=512, validation_data=(x_val, y_val))\n",
        "results = model_6.evaluate(x_test, y_test)\n",
        "results"
      ],
      "metadata": {
        "id": "C5uOlJvQ4Evc",
        "colab": {
          "base_uri": "https://localhost:8080/"
        },
        "outputId": "1ad9f150-0aa7-426c-ad68-3bfd921c5568"
      },
      "execution_count": 11,
      "outputs": [
        {
          "output_type": "stream",
          "name": "stdout",
          "text": [
            "Epoch 1/4\n",
            "30/30 [==============================] - 4s 108ms/step - loss: 0.1732 - accuracy: 0.7670 - val_loss: 0.1200 - val_accuracy: 0.8658\n",
            "Epoch 2/4\n",
            "30/30 [==============================] - 2s 53ms/step - loss: 0.0980 - accuracy: 0.8912 - val_loss: 0.0993 - val_accuracy: 0.8755\n",
            "Epoch 3/4\n",
            "30/30 [==============================] - 1s 35ms/step - loss: 0.0747 - accuracy: 0.9136 - val_loss: 0.0869 - val_accuracy: 0.8884\n",
            "Epoch 4/4\n",
            "30/30 [==============================] - 1s 35ms/step - loss: 0.0599 - accuracy: 0.9320 - val_loss: 0.0841 - val_accuracy: 0.8883\n",
            "782/782 [==============================] - 2s 2ms/step - loss: 0.0881 - accuracy: 0.8828\n"
          ]
        },
        {
          "output_type": "execute_result",
          "data": {
            "text/plain": [
              "[0.08807112276554108, 0.8828399777412415]"
            ]
          },
          "metadata": {},
          "execution_count": 11
        }
      ]
    },
    {
      "cell_type": "markdown",
      "source": [
        "## Results"
      ],
      "metadata": {
        "id": "l_Y1blFO4j-7"
      }
    },
    {
      "cell_type": "markdown",
      "source": [
        "Using the mean squared error (mse) loss function kept the validation accuracy around 88.33% and slightly increased the test accuracy to 87.88%. Given this information, I may consider using the mse loss function moving forward."
      ],
      "metadata": {
        "id": "Vu0Db7g44lkh"
      }
    },
    {
      "cell_type": "markdown",
      "source": [
        "Run data:\n",
        "\n",
        "\n",
        "1.   Val: .8727; Test: .8726\n",
        "2.   Val: .8853; Test: .8809\n",
        "3.   Val: .8840; Test: .8766\n",
        "4.   Val: .8861; Test: .8812\n",
        "5.   Val: .8883; Test: .8828\n",
        "\n",
        "Average - Val: .8833; Test: .8788\n",
        "\n"
      ],
      "metadata": {
        "id": "dBX0Kl_RYEUp"
      }
    },
    {
      "cell_type": "markdown",
      "source": [
        "# Using tanh activation instead of relu"
      ],
      "metadata": {
        "id": "mwH2Qzo44nZG"
      }
    },
    {
      "cell_type": "markdown",
      "source": [
        "## Retraining the model"
      ],
      "metadata": {
        "id": "-IEE0q4k4tSB"
      }
    },
    {
      "cell_type": "code",
      "source": [
        "model_7 = keras.Sequential([\n",
        "    layers.Dense(16, activation=\"tanh\"),\n",
        "    layers.Dense(16, activation=\"tanh\"),\n",
        "    layers.Dense(1, activation=\"sigmoid\")\n",
        "])\n",
        "model_7.compile(optimizer=\"rmsprop\",\n",
        "              loss=\"binary_crossentropy\",\n",
        "              metrics=[\"accuracy\"])\n",
        "model_7.fit(partial_x_train, partial_y_train, epochs=4, batch_size=512, validation_data=(x_val, y_val))\n",
        "results = model_7.evaluate(x_test, y_test)\n",
        "results"
      ],
      "metadata": {
        "id": "gQp3vt3_452I",
        "colab": {
          "base_uri": "https://localhost:8080/"
        },
        "outputId": "3adf0df2-fdd8-4754-f3ee-f49ab3f42ce4"
      },
      "execution_count": 9,
      "outputs": [
        {
          "output_type": "stream",
          "name": "stdout",
          "text": [
            "Epoch 1/4\n",
            "30/30 [==============================] - 3s 77ms/step - loss: 0.5149 - accuracy: 0.7959 - val_loss: 0.4037 - val_accuracy: 0.8525\n",
            "Epoch 2/4\n",
            "30/30 [==============================] - 1s 36ms/step - loss: 0.3155 - accuracy: 0.8953 - val_loss: 0.3099 - val_accuracy: 0.8787\n",
            "Epoch 3/4\n",
            "30/30 [==============================] - 1s 33ms/step - loss: 0.2312 - accuracy: 0.9225 - val_loss: 0.2852 - val_accuracy: 0.8848\n",
            "Epoch 4/4\n",
            "30/30 [==============================] - 1s 35ms/step - loss: 0.1791 - accuracy: 0.9389 - val_loss: 0.2920 - val_accuracy: 0.8812\n",
            "782/782 [==============================] - 2s 3ms/step - loss: 0.3033 - accuracy: 0.8741\n"
          ]
        },
        {
          "output_type": "execute_result",
          "data": {
            "text/plain": [
              "[0.30325186252593994, 0.8740800023078918]"
            ]
          },
          "metadata": {},
          "execution_count": 9
        }
      ]
    },
    {
      "cell_type": "markdown",
      "source": [
        "## Results"
      ],
      "metadata": {
        "id": "74TC9AoS5IQ4"
      }
    },
    {
      "cell_type": "markdown",
      "source": [
        "Using the tanh activation slightly increased the validation accuracy to 88.48% and test accuracy to 87.78%. Given this information, I may consider using tanh activation moving forward."
      ],
      "metadata": {
        "id": "ujkhDCti5Kw4"
      }
    },
    {
      "cell_type": "markdown",
      "source": [
        "Run data:\n",
        "\n",
        "\n",
        "1.   Val: .8841; Test: .8768\n",
        "2.   Val: .8850; Test: .8777\n",
        "3.   Val: .8890; Test: .8822\n",
        "4.   Val: .8846; Test: .8784\n",
        "5.   Val: .8812; Test: .8741\n",
        "\n",
        "Average - Val: .8848; Test: .8778\n",
        "\n"
      ],
      "metadata": {
        "id": "hfx3R4MBdebV"
      }
    },
    {
      "cell_type": "markdown",
      "source": [
        "# Attempt at optimizing the model based on prior results"
      ],
      "metadata": {
        "id": "p1HHZezaea9H"
      }
    },
    {
      "cell_type": "markdown",
      "source": [
        "# Using one hidden layer + 16 hidden units + mse loss function + tanh activation to explore model performance"
      ],
      "metadata": {
        "id": "EIo5F7d2ev0E"
      }
    },
    {
      "cell_type": "markdown",
      "source": [
        "## Retraining the model"
      ],
      "metadata": {
        "id": "G70Fq9OKgxUW"
      }
    },
    {
      "cell_type": "code",
      "source": [
        "model_8 = keras.Sequential([\n",
        "    layers.Dense(16, activation=\"tanh\"),\n",
        "    layers.Dense(1, activation=\"sigmoid\")\n",
        "])\n",
        "model_8.compile(optimizer=\"rmsprop\",\n",
        "              loss=\"mse\",\n",
        "              metrics=[\"accuracy\"])\n",
        "model_8.fit(partial_x_train, partial_y_train, epochs=4, batch_size=512, validation_data=(x_val, y_val))\n",
        "results = model_8.evaluate(x_test, y_test)\n",
        "results"
      ],
      "metadata": {
        "colab": {
          "base_uri": "https://localhost:8080/"
        },
        "id": "LLynAEBbgzia",
        "outputId": "45b3f98c-1051-4425-ef59-7b2f89cc9268"
      },
      "execution_count": 9,
      "outputs": [
        {
          "output_type": "stream",
          "name": "stdout",
          "text": [
            "Epoch 1/4\n",
            "30/30 [==============================] - 3s 69ms/step - loss: 0.1691 - accuracy: 0.7848 - val_loss: 0.1332 - val_accuracy: 0.8455\n",
            "Epoch 2/4\n",
            "30/30 [==============================] - 1s 36ms/step - loss: 0.1049 - accuracy: 0.8916 - val_loss: 0.1021 - val_accuracy: 0.8814\n",
            "Epoch 3/4\n",
            "30/30 [==============================] - 1s 36ms/step - loss: 0.0823 - accuracy: 0.9118 - val_loss: 0.0989 - val_accuracy: 0.8733\n",
            "Epoch 4/4\n",
            "30/30 [==============================] - 1s 36ms/step - loss: 0.0699 - accuracy: 0.9238 - val_loss: 0.0876 - val_accuracy: 0.8881\n",
            "782/782 [==============================] - 2s 3ms/step - loss: 0.0912 - accuracy: 0.8844\n"
          ]
        },
        {
          "output_type": "execute_result",
          "data": {
            "text/plain": [
              "[0.09115107357501984, 0.884440004825592]"
            ]
          },
          "metadata": {},
          "execution_count": 9
        }
      ]
    },
    {
      "cell_type": "markdown",
      "source": [
        "## Results"
      ],
      "metadata": {
        "id": "h_Sr77v2hUEI"
      }
    },
    {
      "cell_type": "markdown",
      "source": [
        "This model consistently had the highest performance with a 88.67% validation accuracy and 88.31% test accuracy. It appears that adjusting the base model using the components that improved performance earlier in the analysis collectively made the model better."
      ],
      "metadata": {
        "id": "22lOYcBmhWFD"
      }
    },
    {
      "cell_type": "markdown",
      "source": [
        "Run data:\n",
        "\n",
        "1.   Val: .8878; Test: .8852\n",
        "2.   Val: .8871; Test: .8827\n",
        "3.   Val: .8893; Test: .8851\n",
        "4.   Val: .8880; Test: .8830\n",
        "5.   Val: .8812; Test: .8796\n",
        "\n",
        "Average - Val: .8867; Test: .8831\n",
        "\n"
      ],
      "metadata": {
        "id": "5_kNxw3ChXFu"
      }
    }
  ]
}