{
  "nbformat": 4,
  "nbformat_minor": 0,
  "metadata": {
    "colab": {
      "provenance": []
    },
    "kernelspec": {
      "name": "python3",
      "display_name": "Python 3"
    },
    "language_info": {
      "name": "python"
    }
  },
  "cells": [
    {
      "cell_type": "markdown",
      "source": [
        "# Assignment 4 Summary/Conclusion\n",
        "# BA 64061-003\n",
        "# Madeline Witzeman"
      ],
      "metadata": {
        "id": "H0ae2tCON1u2"
      }
    },
    {
      "cell_type": "code",
      "source": [
        "import pandas"
      ],
      "metadata": {
        "id": "2qOYKfqr-Ouh"
      },
      "execution_count": 1,
      "outputs": []
    },
    {
      "cell_type": "code",
      "source": [
        "data_models = [['Bag-of-Words', 100], ['Embed from Scratch', 100], ['Pretrain Embed', 100], ['Embed from Scratch', 998], ['Pretrain Embed', 998], ['Embed from Scratch', 486], ['Pretrain Embed', 486]]"
      ],
      "metadata": {
        "id": "IxEmcxNsVrmJ"
      },
      "execution_count": 2,
      "outputs": []
    },
    {
      "cell_type": "code",
      "source": [
        "df = pandas.DataFrame(data_models, index=[1,2,3,4,5,6,7], columns=['Model Type', 'Train Sample Size'])\n",
        "print(df)"
      ],
      "metadata": {
        "colab": {
          "base_uri": "https://localhost:8080/"
        },
        "outputId": "61409053-7dd3-4369-debf-73944df7dfe1",
        "id": "HhhPVV99DkxN"
      },
      "execution_count": 3,
      "outputs": [
        {
          "output_type": "stream",
          "name": "stdout",
          "text": [
            "           Model Type  Train Sample Size\n",
            "1        Bag-of-Words                100\n",
            "2  Embed from Scratch                100\n",
            "3      Pretrain Embed                100\n",
            "4  Embed from Scratch                998\n",
            "5      Pretrain Embed                998\n",
            "6  Embed from Scratch                486\n",
            "7      Pretrain Embed                486\n"
          ]
        }
      ]
    },
    {
      "cell_type": "code",
      "source": [
        "data_avgs = [[71.2, 70.9], [53.0, 53.7], [54.0, 54.7], [76.8, 74.7], [75.6, 73.8], [72.9, 71.1], [71.4, 68.8]]"
      ],
      "metadata": {
        "id": "yKwuP-VIYCHB"
      },
      "execution_count": 4,
      "outputs": []
    },
    {
      "cell_type": "code",
      "source": [
        "df2 = pandas.DataFrame(data_avgs, index=[1,2,3,4,5,6,7], columns=['Validation Accuracy', 'Test Accuracy'])\n",
        "print(df2)"
      ],
      "metadata": {
        "colab": {
          "base_uri": "https://localhost:8080/"
        },
        "id": "-ue92VINBVnR",
        "outputId": "e71c344c-2745-4da8-9f45-9460c2096424"
      },
      "execution_count": 5,
      "outputs": [
        {
          "output_type": "stream",
          "name": "stdout",
          "text": [
            "   Validation Accuracy  Test Accuracy\n",
            "1                 71.2           70.9\n",
            "2                 53.0           53.7\n",
            "3                 54.0           54.7\n",
            "4                 76.8           74.7\n",
            "5                 75.6           73.8\n",
            "6                 72.9           71.1\n",
            "7                 71.4           68.8\n"
          ]
        }
      ]
    },
    {
      "cell_type": "code",
      "source": [
        "plot = df2.plot.bar(ylim=(52.0, 78.0), rot= 0, title=\"Model Performance\")\n",
        "plot.set_xlabel(\"Model Number\")\n",
        "plot.set_ylabel(\"Accuracy (%)\")\n",
        "plot"
      ],
      "metadata": {
        "colab": {
          "base_uri": "https://localhost:8080/",
          "height": 489
        },
        "id": "VIzrd9x9Epw3",
        "outputId": "a8afcb59-0814-46e4-bcaa-3ceeac866675"
      },
      "execution_count": 6,
      "outputs": [
        {
          "output_type": "execute_result",
          "data": {
            "text/plain": [
              "<Axes: title={'center': 'Model Performance'}, xlabel='Model Number', ylabel='Accuracy (%)'>"
            ]
          },
          "metadata": {},
          "execution_count": 6
        },
        {
          "output_type": "display_data",
          "data": {
            "text/plain": [
              "<Figure size 640x480 with 1 Axes>"
            ],
            "image/png": "[encoded data removed]"
          },
          "metadata": {}
        }
      ]
    },
    {
      "cell_type": "markdown",
      "source": [
        "## In conclusion, when using only 100 training samples, the model with a pretrained embedding layer performed very comparably to the model with an embedding layer trained from scratch, and at times, performed better than the embedding layer model trained from scratch. The model with a pretrained embedding layer yielded about 54.0% validation accuracy and 54.7% test accuracy compared to the embedding model trained from scratch which yielded about 53.0% validation accuracy 53.7% test accuracy.\n",
        "\n",
        "## When increasing the training sample size to 998, the model with an embedding layer trained from scratch outperformed the model with a pretrained embedding layer. The model with an embedding layer trained from scratch yielded a validation accuracy of ~76.8% and a test accuracy of ~74.7% compared to the model with a pretrained embedding layer which resulted in a validation accuracy of ~75.6% and a test accuracy of ~73.8%. Both of these models performed significantly better at 1,000 training samples vs. the initial 100 training samples.\n",
        "\n",
        "## After seeing that the model with an embedding layer trained from scratch outperformed the model with a pretrained embedding layer at around 1,000 training samples, I decreased the number of training samples to 486 (roughly half) to see if this was enough samples to allow the embedding layer trained from scratch to outperform the pretrained embedding layer. It appears that roughly 500 training samples is enough for the model with the embedding layer trained from scratch to perform better (validation accuracy of ~72.9%, test accuracy of ~71.1%). This is in comparison to the model with a pretrained embedding layer, which resulted in a validation accuracy of ~71.4% and a test accuracy of ~68.8%. It appears that it doesn't take a large training sample for the model with the embedding layer trained from scratch to outperform the model with the pretrained embedding layer on this dataset.\n",
        "\n",
        "## Lastly, the bag-of-word model displayed great potential, performing surprisingly well at only 100 training samples (71.2% validation accuracy, 70.9% test accuracy). Because this assignment was focused on models using embedding layers trained from scratch vs. models using pretrained embedding layers, I didn't attempt the bag-of-word approach on larger sample sizes, but I'm confident it would perform very well on a larger sample given how well it performed at only 100 training samples."
      ],
      "metadata": {
        "id": "TskhiFF0cbn8"
      }
    },
    {
      "cell_type": "code",
      "source": [
        "!pip install nbconvert"
      ],
      "metadata": {
        "colab": {
          "base_uri": "https://localhost:8080/"
        },
        "id": "7-5pyP3svTOB",
        "outputId": "3d2e4717-d405-40b7-a45a-084df4db293e"
      },
      "execution_count": 7,
      "outputs": [
        {
          "output_type": "stream",
          "name": "stdout",
          "text": [
            "Requirement already satisfied: nbconvert in /usr/local/lib/python3.10/dist-packages (6.5.4)\n",
            "Requirement already satisfied: lxml in /usr/local/lib/python3.10/dist-packages (from nbconvert) (4.9.4)\n",
            "Requirement already satisfied: beautifulsoup4 in /usr/local/lib/python3.10/dist-packages (from nbconvert) (4.12.3)\n",
            "Requirement already satisfied: bleach in /usr/local/lib/python3.10/dist-packages (from nbconvert) (6.1.0)\n",
            "Requirement already satisfied: defusedxml in /usr/local/lib/python3.10/dist-packages (from nbconvert) (0.7.1)\n",
            "Requirement already satisfied: entrypoints>=0.2.2 in /usr/local/lib/python3.10/dist-packages (from nbconvert) (0.4)\n",
            "Requirement already satisfied: jinja2>=3.0 in /usr/local/lib/python3.10/dist-packages (from nbconvert) (3.1.3)\n",
            "Requirement already satisfied: jupyter-core>=4.7 in /usr/local/lib/python3.10/dist-packages (from nbconvert) (5.7.2)\n",
            "Requirement already satisfied: jupyterlab-pygments in /usr/local/lib/python3.10/dist-packages (from nbconvert) (0.3.0)\n",
            "Requirement already satisfied: MarkupSafe>=2.0 in /usr/local/lib/python3.10/dist-packages (from nbconvert) (2.1.5)\n",
            "Requirement already satisfied: mistune<2,>=0.8.1 in /usr/local/lib/python3.10/dist-packages (from nbconvert) (0.8.4)\n",
            "Requirement already satisfied: nbclient>=0.5.0 in /usr/local/lib/python3.10/dist-packages (from nbconvert) (0.10.0)\n",
            "Requirement already satisfied: nbformat>=5.1 in /usr/local/lib/python3.10/dist-packages (from nbconvert) (5.10.4)\n",
            "Requirement already satisfied: packaging in /usr/local/lib/python3.10/dist-packages (from nbconvert) (24.0)\n",
            "Requirement already satisfied: pandocfilters>=1.4.1 in /usr/local/lib/python3.10/dist-packages (from nbconvert) (1.5.1)\n",
            "Requirement already satisfied: pygments>=2.4.1 in /usr/local/lib/python3.10/dist-packages (from nbconvert) (2.16.1)\n",
            "Requirement already satisfied: tinycss2 in /usr/local/lib/python3.10/dist-packages (from nbconvert) (1.2.1)\n",
            "Requirement already satisfied: traitlets>=5.0 in /usr/local/lib/python3.10/dist-packages (from nbconvert) (5.7.1)\n",
            "Requirement already satisfied: platformdirs>=2.5 in /usr/local/lib/python3.10/dist-packages (from jupyter-core>=4.7->nbconvert) (4.2.0)\n",
            "Requirement already satisfied: jupyter-client>=6.1.12 in /usr/local/lib/python3.10/dist-packages (from nbclient>=0.5.0->nbconvert) (6.1.12)\n",
            "Requirement already satisfied: fastjsonschema>=2.15 in /usr/local/lib/python3.10/dist-packages (from nbformat>=5.1->nbconvert) (2.19.1)\n",
            "Requirement already satisfied: jsonschema>=2.6 in /usr/local/lib/python3.10/dist-packages (from nbformat>=5.1->nbconvert) (4.19.2)\n",
            "Requirement already satisfied: soupsieve>1.2 in /usr/local/lib/python3.10/dist-packages (from beautifulsoup4->nbconvert) (2.5)\n",
            "Requirement already satisfied: six>=1.9.0 in /usr/local/lib/python3.10/dist-packages (from bleach->nbconvert) (1.16.0)\n",
            "Requirement already satisfied: webencodings in /usr/local/lib/python3.10/dist-packages (from bleach->nbconvert) (0.5.1)\n",
            "Requirement already satisfied: attrs>=22.2.0 in /usr/local/lib/python3.10/dist-packages (from jsonschema>=2.6->nbformat>=5.1->nbconvert) (23.2.0)\n",
            "Requirement already satisfied: jsonschema-specifications>=2023.03.6 in /usr/local/lib/python3.10/dist-packages (from jsonschema>=2.6->nbformat>=5.1->nbconvert) (2023.12.1)\n",
            "Requirement already satisfied: referencing>=0.28.4 in /usr/local/lib/python3.10/dist-packages (from jsonschema>=2.6->nbformat>=5.1->nbconvert) (0.34.0)\n",
            "Requirement already satisfied: rpds-py>=0.7.1 in /usr/local/lib/python3.10/dist-packages (from jsonschema>=2.6->nbformat>=5.1->nbconvert) (0.18.0)\n",
            "Requirement already satisfied: pyzmq>=13 in /usr/local/lib/python3.10/dist-packages (from jupyter-client>=6.1.12->nbclient>=0.5.0->nbconvert) (23.2.1)\n",
            "Requirement already satisfied: python-dateutil>=2.1 in /usr/local/lib/python3.10/dist-packages (from jupyter-client>=6.1.12->nbclient>=0.5.0->nbconvert) (2.8.2)\n",
            "Requirement already satisfied: tornado>=4.1 in /usr/local/lib/python3.10/dist-packages (from jupyter-client>=6.1.12->nbclient>=0.5.0->nbconvert) (6.3.3)\n"
          ]
        }
      ]
    },
    {
      "cell_type": "code",
      "source": [
        "!jupyter nbconvert --to html \"/content/drive/MyDrive/Colab Notebooks/BA 64061 Assignment 2 Summary Report Madeline Witzeman.ipynb\""
      ],
      "metadata": {
        "colab": {
          "base_uri": "https://localhost:8080/"
        },
        "id": "hjJIgZz0zh2o",
        "outputId": "df114575-7f23-4d85-b0ac-86f0e458d148"
      },
      "execution_count": null,
      "outputs": [
        {
          "output_type": "stream",
          "name": "stdout",
          "text": [
            "[NbConvertApp] Converting notebook /content/drive/MyDrive/Colab Notebooks/BA 64061 Assignment 2 Summary Report Madeline Witzeman.ipynb to html\n",
            "[NbConvertApp] Writing 606371 bytes to /content/drive/MyDrive/Colab Notebooks/BA 64061 Assignment 2 Summary Report Madeline Witzeman.html\n"
          ]
        }
      ]
    },
    {
      "cell_type": "code",
      "source": [
        "from google.colab import drive\n",
        "drive.mount('/content/drive')"
      ],
      "metadata": {
        "id": "5dsC_i_K2EY4",
        "colab": {
          "base_uri": "https://localhost:8080/"
        },
        "outputId": "10d42588-b03a-4e17-fc48-e3293d902289"
      },
      "execution_count": 8,
      "outputs": [
        {
          "output_type": "stream",
          "name": "stdout",
          "text": [
            "Mounted at /content/drive\n"
          ]
        }
      ]
    }
  ]
}