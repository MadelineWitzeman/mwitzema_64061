{
  "nbformat": 4,
  "nbformat_minor": 0,
  "metadata": {
    "colab": {
      "provenance": [],
      "machine_shape": "hm",
      "gpuType": "V100",
      "toc_visible": true
    },
    "kernelspec": {
      "name": "python3",
      "display_name": "Python 3"
    },
    "language_info": {
      "name": "python"
    },
    "accelerator": "GPU"
  },
  "cells": [
    {
      "cell_type": "markdown",
      "source": [
        "# Assignment 4: Text and Sequence Data\n",
        "# BA 64061-003\n",
        "# Madeline Witzeman"
      ],
      "metadata": {
        "id": "H0ae2tCON1u2"
      }
    },
    {
      "cell_type": "markdown",
      "source": [
        "# Loading and Preparing the IMDb dataset"
      ],
      "metadata": {
        "id": "voMcC1NAknNi"
      }
    },
    {
      "cell_type": "code",
      "source": [
        "!curl -O https://ai.stanford.edu/~amaas/data/sentiment/aclImdb_v1.tar.gz\n",
        "!tar -xf aclImdb_v1.tar.gz"
      ],
      "metadata": {
        "colab": {
          "base_uri": "https://localhost:8080/"
        },
        "id": "df5RyE7CkywG",
        "outputId": "e3e90b80-7db1-4e7f-8860-06a6e75b0b1c"
      },
      "execution_count": 1,
      "outputs": [
        {
          "output_type": "stream",
          "name": "stdout",
          "text": [
            "  % Total    % Received % Xferd  Average Speed   Time    Time     Time  Current\n",
            "                                 Dload  Upload   Total   Spent    Left  Speed\n",
            "100 80.2M  100 80.2M    0     0  3446k      0  0:00:23  0:00:23 --:--:-- 5264k\n"
          ]
        }
      ]
    },
    {
      "cell_type": "code",
      "source": [
        "!rm -r aclImdb/train/unsup"
      ],
      "metadata": {
        "id": "zmMoFSW3k7KS"
      },
      "execution_count": 2,
      "outputs": []
    },
    {
      "cell_type": "markdown",
      "source": [
        "Inspecting some of the data prior to modeling:"
      ],
      "metadata": {
        "id": "7hORN3QjlmW1"
      }
    },
    {
      "cell_type": "code",
      "source": [
        "!cat aclImdb/train/pos/4077_10.txt"
      ],
      "metadata": {
        "colab": {
          "base_uri": "https://localhost:8080/"
        },
        "id": "J7JqfftIk789",
        "outputId": "8307431b-3340-4815-a111-171135524ca6"
      },
      "execution_count": 3,
      "outputs": [
        {
          "output_type": "stream",
          "name": "stdout",
          "text": [
            "I first saw this back in the early 90s on UK TV, i did like it then but i missed the chance to tape it, many years passed but the film always stuck with me and i lost hope of seeing it TV again, the main thing that stuck with me was the end, the hole castle part really touched me, its easy to watch, has a great story, great music, the list goes on and on, its OK me saying how good it is but everyone will take there own best bits away with them once they have seen it, yes the animation is top notch and beautiful to watch, it does show its age in a very few parts but that has now become part of it beauty, i am so glad it has came out on DVD as it is one of my top 10 films of all time. Buy it or rent it just see it, best viewing is at night alone with drink and food in reach so you don't have to stop the film.<br /><br />Enjoy"
          ]
        }
      ]
    },
    {
      "cell_type": "markdown",
      "source": [
        "## Based on the assignment instructions, I am validating on 10,000 samples (#3) and training on 100 samples (#2):"
      ],
      "metadata": {
        "id": "oAnZlO8Fn8-z"
      }
    },
    {
      "cell_type": "code",
      "source": [
        "import os, pathlib, shutil, random\n",
        "\n",
        "base_dir = pathlib.Path(\"aclImdb\")\n",
        "val_dir = base_dir / \"val\"\n",
        "train_dir = base_dir / \"train\"\n",
        "train_dir_2 = base_dir / \"train2\"\n",
        "for category in (\"neg\", \"pos\"):\n",
        "    os.makedirs(val_dir / category)\n",
        "    files = os.listdir(train_dir / category)\n",
        "    random.Random(1337).shuffle(files)\n",
        "    num_val_samples = int(0.4 * len(files))\n",
        "    val_files = files[-num_val_samples:]\n",
        "    for fname in val_files:\n",
        "        shutil.move(train_dir / category / fname,\n",
        "                    val_dir / category / fname)\n",
        "\n",
        "for category in (\"neg\", \"pos\"):\n",
        "    os.makedirs(train_dir_2 / category)\n",
        "    files = os.listdir(train_dir / category)\n",
        "    random.Random(1337).shuffle(files)\n",
        "    num_train_samples = int(0.0067 * len(files))\n",
        "    train_files = files[-num_train_samples:]\n",
        "    for fname in train_files:\n",
        "        shutil.move(train_dir / category / fname,\n",
        "                    train_dir_2 / category / fname)"
      ],
      "metadata": {
        "id": "C4JI9NFFQBVy"
      },
      "execution_count": 4,
      "outputs": []
    },
    {
      "cell_type": "code",
      "source": [
        "from tensorflow import keras\n",
        "batch_size = 32\n",
        "\n",
        "train_ds = keras.utils.text_dataset_from_directory(\n",
        "    \"aclImdb/train\", batch_size=batch_size\n",
        ")\n",
        "val_ds = keras.utils.text_dataset_from_directory(\n",
        "    \"aclImdb/val\", batch_size=batch_size\n",
        ")\n",
        "test_ds = keras.utils.text_dataset_from_directory(\n",
        "    \"aclImdb/test\", batch_size=batch_size\n",
        ")\n",
        "train_ds_2 = keras.utils.text_dataset_from_directory(\n",
        "    \"aclImdb/train2\", batch_size=batch_size\n",
        ")"
      ],
      "metadata": {
        "colab": {
          "base_uri": "https://localhost:8080/"
        },
        "id": "MD3froGwk_rZ",
        "outputId": "d9531d70-0f78-475e-907d-512d4b92f51a"
      },
      "execution_count": 5,
      "outputs": [
        {
          "output_type": "stream",
          "name": "stdout",
          "text": [
            "Found 14900 files belonging to 2 classes.\n",
            "Found 10000 files belonging to 2 classes.\n",
            "Found 25000 files belonging to 2 classes.\n",
            "Found 100 files belonging to 2 classes.\n"
          ]
        }
      ]
    },
    {
      "cell_type": "markdown",
      "source": [
        "## Displaying the shapes and data types of the first batch"
      ],
      "metadata": {
        "id": "QOOUgfGjlD_1"
      }
    },
    {
      "cell_type": "code",
      "source": [
        "for inputs, targets in train_ds_2:\n",
        "    print(\"inputs.shape:\", inputs.shape)\n",
        "    print(\"inputs.dtype:\", inputs.dtype)\n",
        "    print(\"targets.shape:\", targets.shape)\n",
        "    print(\"targets.dtype:\", targets.dtype)\n",
        "    print(\"inputs[0]:\", inputs[0])\n",
        "    print(\"targets[0]:\", targets[0])\n",
        "    break"
      ],
      "metadata": {
        "colab": {
          "base_uri": "https://localhost:8080/"
        },
        "id": "V1WHoOv8lBd4",
        "outputId": "fded5631-8d25-4c2a-fab5-462e942331e7"
      },
      "execution_count": 6,
      "outputs": [
        {
          "output_type": "stream",
          "name": "stdout",
          "text": [
            "inputs.shape: (32,)\n",
            "inputs.dtype: <dtype: 'string'>\n",
            "targets.shape: (32,)\n",
            "targets.dtype: <dtype: 'int32'>\n",
            "inputs[0]: tf.Tensor(b\"This is why i so love this website ! I saw this film in the 1980's on British television. Over the years it is one i have wished i knew more about as it has stayed with me as one of the single most extraordinary things i have ever seen in my life. With barely a few key words to remember it by, i traced the film here, and much information, including the fact it's about to become an off-Broadway musical !<br /><br />Interestingly, unlike the previous comment maker, i do not remember finding this film sad, or exploitative. On the contrary, the extraordinary relationship between the mother and daughter stuck in the mind as a testimony of great strength, honour and dignity. Ironic you may think, considering the squalor of their lives. Maybe it's because i live in Britain, where fading grandeur has an established language in the lives of old money, where squalor is often tolerated as evidence of good breeding; I saw it as a rare and unique portrayal of enormous spirit, deep and profound humour, whose utterly fragile and delicately balanced fabric gave it poise and respect. In a way i was sorry to see it being discussed as a 'cult'. Over the years, as it faded in my mind, it shone the brightest, above all others as a one off brilliant & outstanding televisual experience. It was such a deeply private expose, it seems odd to think of it becoming so public as to be a New York musical. But perhaps somewhere, the daughter will be amused by such an outcome. It is she who will have the last laugh maybe..(They made a musical out of her before you Jackie O' )\", shape=(), dtype=string)\n",
            "targets[0]: tf.Tensor(1, shape=(), dtype=int32)\n"
          ]
        }
      ]
    },
    {
      "cell_type": "markdown",
      "source": [
        "# Using the bag-of-words with multi-hot binary vectors approach to establish a baseline"
      ],
      "metadata": {
        "id": "dNm0BZRYnnqL"
      }
    },
    {
      "cell_type": "markdown",
      "source": [
        "## Preprocessing the datasets with a TextVectorization layer. Restricting the vocabulary to the top 10,000 words based on assignment instructions (#4):"
      ],
      "metadata": {
        "id": "t1nK2yrMowNW"
      }
    },
    {
      "cell_type": "code",
      "source": [
        "from tensorflow.keras.layers import TextVectorization\n",
        "text_vectorization = TextVectorization(\n",
        "    output_mode=\"int\",\n",
        ")"
      ],
      "metadata": {
        "id": "rxHEP4dfpqCf"
      },
      "execution_count": 7,
      "outputs": []
    },
    {
      "cell_type": "code",
      "source": [
        "text_vectorization = TextVectorization(\n",
        "    max_tokens=10000,\n",
        "    output_mode=\"multi_hot\",\n",
        ")\n",
        "text_only_train_ds = train_ds.map(lambda x, y: x)\n",
        "text_vectorization.adapt(text_only_train_ds)\n",
        "\n",
        "binary_1gram_train_ds = train_ds.map(\n",
        "    lambda x, y: (text_vectorization(x), y),\n",
        "    num_parallel_calls=4)\n",
        "binary_1gram_val_ds = val_ds.map(\n",
        "    lambda x, y: (text_vectorization(x), y),\n",
        "    num_parallel_calls=4)\n",
        "binary_1gram_test_ds = test_ds.map(\n",
        "    lambda x, y: (text_vectorization(x), y),\n",
        "    num_parallel_calls=4)\n",
        "binary_1gram_train_ds2 = train_ds_2.map(\n",
        "    lambda x, y: (text_vectorization(x), y),\n",
        "    num_parallel_calls=4)"
      ],
      "metadata": {
        "id": "TBHtjW4goXId"
      },
      "execution_count": 8,
      "outputs": []
    },
    {
      "cell_type": "markdown",
      "source": [
        "## Inspecting the output of the binary unigram dataset"
      ],
      "metadata": {
        "id": "4-LW2P8Mp72m"
      }
    },
    {
      "cell_type": "code",
      "source": [
        "for inputs, targets in binary_1gram_train_ds2:\n",
        "    print(\"inputs.shape:\", inputs.shape)\n",
        "    print(\"inputs.dtype:\", inputs.dtype)\n",
        "    print(\"targets.shape:\", targets.shape)\n",
        "    print(\"targets.dtype:\", targets.dtype)\n",
        "    print(\"inputs[0]:\", inputs[0])\n",
        "    print(\"targets[0]:\", targets[0])\n",
        "    break"
      ],
      "metadata": {
        "colab": {
          "base_uri": "https://localhost:8080/"
        },
        "id": "dP3UPUFHqAga",
        "outputId": "ad728b0c-2ca0-485d-d73e-611e23b359bf"
      },
      "execution_count": 9,
      "outputs": [
        {
          "output_type": "stream",
          "name": "stdout",
          "text": [
            "inputs.shape: (32, 10000)\n",
            "inputs.dtype: <dtype: 'float32'>\n",
            "targets.shape: (32,)\n",
            "targets.dtype: <dtype: 'int32'>\n",
            "inputs[0]: tf.Tensor([1. 1. 1. ... 0. 0. 0.], shape=(10000,), dtype=float32)\n",
            "targets[0]: tf.Tensor(0, shape=(), dtype=int32)\n"
          ]
        }
      ]
    },
    {
      "cell_type": "markdown",
      "source": [
        "## The model-building utility"
      ],
      "metadata": {
        "id": "RKEVH88KqJZq"
      }
    },
    {
      "cell_type": "code",
      "source": [
        "from tensorflow import keras\n",
        "from tensorflow.keras import layers\n",
        "\n",
        "def get_model(max_tokens=10000, hidden_dim=16):\n",
        "    inputs = keras.Input(shape=(max_tokens,))\n",
        "    x = layers.Dense(hidden_dim, activation=\"relu\")(inputs)\n",
        "    x = layers.Dropout(0.5)(x)\n",
        "    outputs = layers.Dense(1, activation=\"sigmoid\")(x)\n",
        "    model = keras.Model(inputs, outputs)\n",
        "    model.compile(optimizer=\"rmsprop\",\n",
        "                  loss=\"binary_crossentropy\",\n",
        "                  metrics=[\"accuracy\"])\n",
        "    return model"
      ],
      "metadata": {
        "id": "FyHDODqIqPyb"
      },
      "execution_count": 10,
      "outputs": []
    },
    {
      "cell_type": "markdown",
      "source": [
        "## Training and testing the binary unigram model"
      ],
      "metadata": {
        "id": "K87X7SUxqesj"
      }
    },
    {
      "cell_type": "code",
      "source": [
        "model = get_model()\n",
        "model.summary()\n",
        "callbacks = [\n",
        "    keras.callbacks.ModelCheckpoint(\"binary_1gram.keras\",\n",
        "                                    save_best_only=True)\n",
        "]\n",
        "model.fit(binary_1gram_train_ds2.cache(),\n",
        "          validation_data=binary_1gram_val_ds.cache(),\n",
        "          epochs=10,\n",
        "          callbacks=callbacks)\n",
        "model = keras.models.load_model(\"binary_1gram.keras\")\n",
        "print(f\"Test acc: {model.evaluate(binary_1gram_test_ds)[1]:.3f}\")"
      ],
      "metadata": {
        "colab": {
          "base_uri": "https://localhost:8080/"
        },
        "id": "v2oqJWdtqgFf",
        "outputId": "02fd16d7-0c97-4d62-fb6d-fff980c3b1ae"
      },
      "execution_count": 11,
      "outputs": [
        {
          "output_type": "stream",
          "name": "stdout",
          "text": [
            "Model: \"model\"\n",
            "_________________________________________________________________\n",
            " Layer (type)                Output Shape              Param #   \n",
            "=================================================================\n",
            " input_1 (InputLayer)        [(None, 10000)]           0         \n",
            "                                                                 \n",
            " dense (Dense)               (None, 16)                160016    \n",
            "                                                                 \n",
            " dropout (Dropout)           (None, 16)                0         \n",
            "                                                                 \n",
            " dense_1 (Dense)             (None, 1)                 17        \n",
            "                                                                 \n",
            "=================================================================\n",
            "Total params: 160033 (625.13 KB)\n",
            "Trainable params: 160033 (625.13 KB)\n",
            "Non-trainable params: 0 (0.00 Byte)\n",
            "_________________________________________________________________\n",
            "Epoch 1/10\n",
            "4/4 [==============================] - 4s 311ms/step - loss: 0.7049 - accuracy: 0.4800 - val_loss: 0.6833 - val_accuracy: 0.5618\n",
            "Epoch 2/10\n",
            "4/4 [==============================] - 1s 211ms/step - loss: 0.6024 - accuracy: 0.6900 - val_loss: 0.6651 - val_accuracy: 0.6375\n",
            "Epoch 3/10\n",
            "4/4 [==============================] - 1s 215ms/step - loss: 0.5041 - accuracy: 0.8600 - val_loss: 0.6491 - val_accuracy: 0.6664\n",
            "Epoch 4/10\n",
            "4/4 [==============================] - 1s 215ms/step - loss: 0.4365 - accuracy: 0.9000 - val_loss: 0.6359 - val_accuracy: 0.6756\n",
            "Epoch 5/10\n",
            "4/4 [==============================] - 1s 221ms/step - loss: 0.4108 - accuracy: 0.9200 - val_loss: 0.6231 - val_accuracy: 0.6930\n",
            "Epoch 6/10\n",
            "4/4 [==============================] - 1s 211ms/step - loss: 0.3386 - accuracy: 0.9300 - val_loss: 0.6124 - val_accuracy: 0.7087\n",
            "Epoch 7/10\n",
            "4/4 [==============================] - 1s 212ms/step - loss: 0.3066 - accuracy: 0.9500 - val_loss: 0.6048 - val_accuracy: 0.6953\n",
            "Epoch 8/10\n",
            "4/4 [==============================] - 1s 211ms/step - loss: 0.2806 - accuracy: 0.9600 - val_loss: 0.5964 - val_accuracy: 0.7063\n",
            "Epoch 9/10\n",
            "4/4 [==============================] - 1s 207ms/step - loss: 0.2298 - accuracy: 0.9700 - val_loss: 0.5901 - val_accuracy: 0.7118\n",
            "Epoch 10/10\n",
            "4/4 [==============================] - 1s 210ms/step - loss: 0.1946 - accuracy: 0.9900 - val_loss: 0.5896 - val_accuracy: 0.6931\n",
            "782/782 [==============================] - 2s 3ms/step - loss: 0.5954 - accuracy: 0.6862\n",
            "Test acc: 0.686\n"
          ]
        }
      ]
    },
    {
      "cell_type": "markdown",
      "source": [
        "By only using 100 training samples, this approach yields a validation accuracy of ~71.2% (at best) and a test accuracy of ~70.9%."
      ],
      "metadata": {
        "id": "5vId8gi-qnqm"
      }
    },
    {
      "cell_type": "markdown",
      "source": [
        "# Establishing a second model using an embedding layer"
      ],
      "metadata": {
        "id": "ZkFbSdRyraQX"
      }
    },
    {
      "cell_type": "markdown",
      "source": [
        "## Preparing integer sequence datasets. Based on the assignment instructions, I'm still limiting the vocabulary to the top 10,000 words (#4) and now cutting off the reviews after 150 words (#1):"
      ],
      "metadata": {
        "id": "KbLUPjRGsmif"
      }
    },
    {
      "cell_type": "code",
      "source": [
        "from tensorflow.keras import layers\n",
        "\n",
        "max_length = 150\n",
        "max_tokens = 10000\n",
        "text_vectorization = layers.TextVectorization(\n",
        "    max_tokens=max_tokens,\n",
        "    output_mode=\"int\",\n",
        "    output_sequence_length=max_length,\n",
        ")\n",
        "text_vectorization.adapt(text_only_train_ds)\n",
        "\n",
        "int_train_ds = train_ds.map(\n",
        "    lambda x, y: (text_vectorization(x), y),\n",
        "    num_parallel_calls=4)\n",
        "int_val_ds = val_ds.map(\n",
        "    lambda x, y: (text_vectorization(x), y),\n",
        "    num_parallel_calls=4)\n",
        "int_test_ds = test_ds.map(\n",
        "    lambda x, y: (text_vectorization(x), y),\n",
        "    num_parallel_calls=4)\n",
        "int_train_ds_2 = train_ds_2.map(\n",
        "    lambda x, y: (text_vectorization(x), y),\n",
        "    num_parallel_calls=4)"
      ],
      "metadata": {
        "id": "EETAdUVOtGAs"
      },
      "execution_count": 12,
      "outputs": []
    },
    {
      "cell_type": "markdown",
      "source": [
        "## Building a sequence model with an embedding layer trained from scratch with masking enabled"
      ],
      "metadata": {
        "id": "tc5K3eBftpMb"
      }
    },
    {
      "cell_type": "code",
      "source": [
        "embedding_layer = layers.Embedding(input_dim=max_tokens, output_dim=256)"
      ],
      "metadata": {
        "id": "33b7UQyEt-Oz"
      },
      "execution_count": 13,
      "outputs": []
    },
    {
      "cell_type": "code",
      "source": [
        "import tensorflow as tf\n",
        "inputs = keras.Input(shape=(None,), dtype=\"int64\")\n",
        "embedded = layers.Embedding(\n",
        "    input_dim=max_tokens, output_dim=256, mask_zero=True)(inputs)\n",
        "x = layers.Bidirectional(layers.LSTM(32))(embedded)\n",
        "x = layers.Dropout(0.5)(x)\n",
        "outputs = layers.Dense(1, activation=\"sigmoid\")(x)\n",
        "model = keras.Model(inputs, outputs)\n",
        "model.compile(optimizer=\"rmsprop\",\n",
        "              loss=\"binary_crossentropy\",\n",
        "              metrics=[\"accuracy\"])\n",
        "model.summary()\n",
        "\n",
        "callbacks = [\n",
        "    keras.callbacks.ModelCheckpoint(\"embeddings_bidir_gru_with_masking.keras\",\n",
        "                                    save_best_only=True)\n",
        "]\n",
        "model.fit(int_train_ds_2, validation_data=int_val_ds, epochs=10, callbacks=callbacks)\n",
        "model = keras.models.load_model(\"embeddings_bidir_gru_with_masking.keras\")\n",
        "print(f\"Test acc: {model.evaluate(int_test_ds)[1]:.3f}\")"
      ],
      "metadata": {
        "colab": {
          "base_uri": "https://localhost:8080/"
        },
        "id": "jWNjvNlWt3r2",
        "outputId": "74bd6b32-072c-4a1f-b0fd-b819441f7ddd"
      },
      "execution_count": 40,
      "outputs": [
        {
          "output_type": "stream",
          "name": "stdout",
          "text": [
            "Model: \"model_7\"\n",
            "_________________________________________________________________\n",
            " Layer (type)                Output Shape              Param #   \n",
            "=================================================================\n",
            " input_8 (InputLayer)        [(None, None)]            0         \n",
            "                                                                 \n",
            " embedding_7 (Embedding)     (None, None, 256)         2560000   \n",
            "                                                                 \n",
            " bidirectional_6 (Bidirecti  (None, 64)                73984     \n",
            " onal)                                                           \n",
            "                                                                 \n",
            " dropout_7 (Dropout)         (None, 64)                0         \n",
            "                                                                 \n",
            " dense_8 (Dense)             (None, 1)                 65        \n",
            "                                                                 \n",
            "=================================================================\n",
            "Total params: 2634049 (10.05 MB)\n",
            "Trainable params: 2634049 (10.05 MB)\n",
            "Non-trainable params: 0 (0.00 Byte)\n",
            "_________________________________________________________________\n",
            "Epoch 1/10\n",
            "4/4 [==============================] - 15s 2s/step - loss: 0.6943 - accuracy: 0.5200 - val_loss: 0.6932 - val_accuracy: 0.5026\n",
            "Epoch 2/10\n",
            "4/4 [==============================] - 2s 799ms/step - loss: 0.6854 - accuracy: 0.6200 - val_loss: 0.6933 - val_accuracy: 0.4956\n",
            "Epoch 3/10\n",
            "4/4 [==============================] - 2s 789ms/step - loss: 0.6764 - accuracy: 0.7500 - val_loss: 0.6936 - val_accuracy: 0.4960\n",
            "Epoch 4/10\n",
            "4/4 [==============================] - 3s 877ms/step - loss: 0.6646 - accuracy: 0.8000 - val_loss: 0.6939 - val_accuracy: 0.4957\n",
            "Epoch 5/10\n",
            "4/4 [==============================] - 3s 852ms/step - loss: 0.6498 - accuracy: 0.8500 - val_loss: 0.6943 - val_accuracy: 0.4990\n",
            "Epoch 6/10\n",
            "4/4 [==============================] - 3s 900ms/step - loss: 0.6343 - accuracy: 0.8900 - val_loss: 0.6950 - val_accuracy: 0.4980\n",
            "Epoch 7/10\n",
            "4/4 [==============================] - 3s 888ms/step - loss: 0.5993 - accuracy: 0.9100 - val_loss: 0.6976 - val_accuracy: 0.4910\n",
            "Epoch 8/10\n",
            "4/4 [==============================] - 3s 888ms/step - loss: 0.5489 - accuracy: 0.9300 - val_loss: 0.7372 - val_accuracy: 0.4977\n",
            "Epoch 9/10\n",
            "4/4 [==============================] - 3s 835ms/step - loss: 0.4756 - accuracy: 0.8200 - val_loss: 0.7973 - val_accuracy: 0.5014\n",
            "Epoch 10/10\n",
            "4/4 [==============================] - 3s 855ms/step - loss: 0.4618 - accuracy: 0.8700 - val_loss: 0.7140 - val_accuracy: 0.5075\n",
            "782/782 [==============================] - 11s 8ms/step - loss: 0.6934 - accuracy: 0.4938\n",
            "Test acc: 0.494\n"
          ]
        }
      ]
    },
    {
      "cell_type": "markdown",
      "source": [
        "I enabled masking with the embedded layer since it improved model performance in the textbook. This approach yields a validation accuracy of ~53.0% (at best) and a test accuracy of ~53.7%, which is worse than the baseline binary unigram model. I'm now going to see how it compares to the pretrained word embedding model training on only 100 samples."
      ],
      "metadata": {
        "id": "XYieRH4tu6D4"
      }
    },
    {
      "cell_type": "markdown",
      "source": [
        "# Establishing a third model using pretrained word embedding"
      ],
      "metadata": {
        "id": "EJZN7AwRysri"
      }
    },
    {
      "cell_type": "code",
      "source": [
        "!wget http://nlp.stanford.edu/data/glove.6B.zip\n",
        "!unzip -q glove.6B.zip"
      ],
      "metadata": {
        "colab": {
          "base_uri": "https://localhost:8080/"
        },
        "id": "D5ZaVgfXvVPw",
        "outputId": "f3abf492-6cef-4b30-d2d4-5cb9590bb393"
      },
      "execution_count": 15,
      "outputs": [
        {
          "output_type": "stream",
          "name": "stdout",
          "text": [
            "--2024-04-25 04:38:58--  http://nlp.stanford.edu/data/glove.6B.zip\n",
            "Resolving nlp.stanford.edu (nlp.stanford.edu)... 171.64.67.140\n",
            "Connecting to nlp.stanford.edu (nlp.stanford.edu)|171.64.67.140|:80... connected.\n",
            "HTTP request sent, awaiting response... 302 Found\n",
            "Location: https://nlp.stanford.edu/data/glove.6B.zip [following]\n",
            "--2024-04-25 04:38:58--  https://nlp.stanford.edu/data/glove.6B.zip\n",
            "Connecting to nlp.stanford.edu (nlp.stanford.edu)|171.64.67.140|:443... connected.\n",
            "HTTP request sent, awaiting response... 301 Moved Permanently\n",
            "Location: https://downloads.cs.stanford.edu/nlp/data/glove.6B.zip [following]\n",
            "--2024-04-25 04:38:59--  https://downloads.cs.stanford.edu/nlp/data/glove.6B.zip\n",
            "Resolving downloads.cs.stanford.edu (downloads.cs.stanford.edu)... 171.64.64.22\n",
            "Connecting to downloads.cs.stanford.edu (downloads.cs.stanford.edu)|171.64.64.22|:443... connected.\n",
            "HTTP request sent, awaiting response... 200 OK\n",
            "Length: 862182613 (822M) [application/zip]\n",
            "Saving to: ‘glove.6B.zip’\n",
            "\n",
            "glove.6B.zip        100%[===================>] 822.24M  5.12MB/s    in 2m 40s  \n",
            "\n",
            "2024-04-25 04:41:39 (5.14 MB/s) - ‘glove.6B.zip’ saved [862182613/862182613]\n",
            "\n"
          ]
        }
      ]
    },
    {
      "cell_type": "markdown",
      "source": [
        "## Parsing the GloVe word-embeddings file"
      ],
      "metadata": {
        "id": "5mSHelU21sTe"
      }
    },
    {
      "cell_type": "code",
      "source": [
        "import numpy as np\n",
        "path_to_glove_file = \"glove.6B.100d.txt\"\n",
        "\n",
        "embeddings_index = {}\n",
        "with open(path_to_glove_file) as f:\n",
        "    for line in f:\n",
        "        word, coefs = line.split(maxsplit=1)\n",
        "        coefs = np.fromstring(coefs, \"f\", sep=\" \")\n",
        "        embeddings_index[word] = coefs\n",
        "\n",
        "print(f\"Found {len(embeddings_index)} word vectors.\")"
      ],
      "metadata": {
        "colab": {
          "base_uri": "https://localhost:8080/"
        },
        "id": "vC5SXzrQ1uIM",
        "outputId": "82d64040-27de-4ce2-c69e-f492c8684b82"
      },
      "execution_count": 16,
      "outputs": [
        {
          "output_type": "stream",
          "name": "stdout",
          "text": [
            "Found 400000 word vectors.\n"
          ]
        }
      ]
    },
    {
      "cell_type": "markdown",
      "source": [
        "## Preparing the GloVe word-embeddings matrix"
      ],
      "metadata": {
        "id": "N637dFtx1xeY"
      }
    },
    {
      "cell_type": "code",
      "source": [
        "embedding_dim = 100\n",
        "\n",
        "vocabulary = text_vectorization.get_vocabulary()\n",
        "word_index = dict(zip(vocabulary, range(len(vocabulary))))\n",
        "\n",
        "embedding_matrix = np.zeros((max_tokens, embedding_dim))\n",
        "for word, i in word_index.items():\n",
        "    if i < max_tokens:\n",
        "        embedding_vector = embeddings_index.get(word)\n",
        "    if embedding_vector is not None:\n",
        "        embedding_matrix[i] = embedding_vector"
      ],
      "metadata": {
        "id": "UMMd2Xev11A0"
      },
      "execution_count": 17,
      "outputs": []
    },
    {
      "cell_type": "code",
      "source": [
        "embedding_layer = layers.Embedding(\n",
        "    max_tokens,\n",
        "    embedding_dim,\n",
        "    embeddings_initializer=keras.initializers.Constant(embedding_matrix),\n",
        "    trainable=False,\n",
        "    mask_zero=True,\n",
        ")"
      ],
      "metadata": {
        "id": "N47QCume1-CA"
      },
      "execution_count": 18,
      "outputs": []
    },
    {
      "cell_type": "markdown",
      "source": [
        "## Building a model that uses a pretrained Embedding layer"
      ],
      "metadata": {
        "id": "KXoxTKAK13hD"
      }
    },
    {
      "cell_type": "code",
      "source": [
        "inputs = keras.Input(shape=(None,), dtype=\"int64\")\n",
        "embedded = embedding_layer(inputs)\n",
        "x = layers.Bidirectional(layers.LSTM(32))(embedded)\n",
        "x = layers.Dropout(0.5)(x)\n",
        "outputs = layers.Dense(1, activation=\"sigmoid\")(x)\n",
        "model = keras.Model(inputs, outputs)\n",
        "model.compile(optimizer=\"rmsprop\",\n",
        "              loss=\"binary_crossentropy\",\n",
        "              metrics=[\"accuracy\"])\n",
        "model.summary()\n",
        "\n",
        "callbacks = [\n",
        "    keras.callbacks.ModelCheckpoint(\"glove_embeddings_sequence_model.keras\",\n",
        "                                    save_best_only=True)\n",
        "]\n",
        "model.fit(int_train_ds_2, validation_data=int_val_ds, epochs=10, callbacks=callbacks)\n",
        "model = keras.models.load_model(\"glove_embeddings_sequence_model.keras\")\n",
        "print(f\"Test acc: {model.evaluate(int_test_ds)[1]:.3f}\")"
      ],
      "metadata": {
        "colab": {
          "base_uri": "https://localhost:8080/"
        },
        "id": "gt0BWK5q20Qz",
        "outputId": "16af8fe4-b8b0-49d7-d27e-5ebcf29030fb"
      },
      "execution_count": 41,
      "outputs": [
        {
          "output_type": "stream",
          "name": "stdout",
          "text": [
            "Model: \"model_8\"\n",
            "_________________________________________________________________\n",
            " Layer (type)                Output Shape              Param #   \n",
            "=================================================================\n",
            " input_9 (InputLayer)        [(None, None)]            0         \n",
            "                                                                 \n",
            " embedding_5 (Embedding)     (None, None, 256)         2560000   \n",
            "                                                                 \n",
            " bidirectional_7 (Bidirecti  (None, 64)                73984     \n",
            " onal)                                                           \n",
            "                                                                 \n",
            " dropout_8 (Dropout)         (None, 64)                0         \n",
            "                                                                 \n",
            " dense_9 (Dense)             (None, 1)                 65        \n",
            "                                                                 \n",
            "=================================================================\n",
            "Total params: 2634049 (10.05 MB)\n",
            "Trainable params: 2634049 (10.05 MB)\n",
            "Non-trainable params: 0 (0.00 Byte)\n",
            "_________________________________________________________________\n",
            "Epoch 1/10\n",
            "4/4 [==============================] - 6s 1s/step - loss: 0.6949 - accuracy: 0.4700 - val_loss: 0.6933 - val_accuracy: 0.5005\n",
            "Epoch 2/10\n",
            "4/4 [==============================] - 2s 794ms/step - loss: 0.6835 - accuracy: 0.5400 - val_loss: 0.6941 - val_accuracy: 0.5010\n",
            "Epoch 3/10\n",
            "4/4 [==============================] - 2s 783ms/step - loss: 0.6748 - accuracy: 0.5900 - val_loss: 0.6945 - val_accuracy: 0.4936\n",
            "Epoch 4/10\n",
            "4/4 [==============================] - 2s 770ms/step - loss: 0.6633 - accuracy: 0.8100 - val_loss: 0.6973 - val_accuracy: 0.4956\n",
            "Epoch 5/10\n",
            "4/4 [==============================] - 2s 711ms/step - loss: 0.6462 - accuracy: 0.7400 - val_loss: 0.6983 - val_accuracy: 0.4807\n",
            "Epoch 6/10\n",
            "4/4 [==============================] - 2s 723ms/step - loss: 0.6137 - accuracy: 0.8700 - val_loss: 0.7063 - val_accuracy: 0.4752\n",
            "Epoch 7/10\n",
            "4/4 [==============================] - 2s 719ms/step - loss: 0.5657 - accuracy: 0.8900 - val_loss: 0.7221 - val_accuracy: 0.4715\n",
            "Epoch 8/10\n",
            "4/4 [==============================] - 2s 741ms/step - loss: 0.5018 - accuracy: 0.8500 - val_loss: 0.7260 - val_accuracy: 0.4975\n",
            "Epoch 9/10\n",
            "4/4 [==============================] - 2s 744ms/step - loss: 0.4074 - accuracy: 0.9200 - val_loss: 0.7184 - val_accuracy: 0.5006\n",
            "Epoch 10/10\n",
            "4/4 [==============================] - 2s 752ms/step - loss: 0.3595 - accuracy: 0.9800 - val_loss: 0.7476 - val_accuracy: 0.4885\n",
            "782/782 [==============================] - 7s 7ms/step - loss: 0.6932 - accuracy: 0.5030\n",
            "Test acc: 0.503\n"
          ]
        }
      ]
    },
    {
      "cell_type": "markdown",
      "source": [
        "This approach yields a validation accuracy of ~54.0% (at best) and a test accuracy of ~54.7%, which is also worse than the baseline binary unigram model performance. This model performed very comparably to the model using an embedding layer trained from scratch. At times, the model with a pretrained word embedding layer performed better than the model with an embedding layer trained from scratch, and vice versa.\n",
        "\n",
        "This makes sense given I am only training on a sample size of 100 movie reviews. When there isn't a large enough training sample to learn from the dataset itself, pretrained embedding layers can help improve model performance.\n",
        "\n",
        "I'm going to alter the training sample size to see at what point the model utilizing the embedding layer trained from scracth notably outperforms the model utilizing the pretrained embedding layer."
      ],
      "metadata": {
        "id": "QdCtHbAe3-q_"
      }
    },
    {
      "cell_type": "markdown",
      "source": [
        "# Increasing the training samples to 998 (almost 1,000)"
      ],
      "metadata": {
        "id": "GXg5JQrQ4Z_B"
      }
    },
    {
      "cell_type": "code",
      "source": [
        "import os, pathlib, shutil, random\n",
        "\n",
        "base_dir = pathlib.Path(\"aclImdb\")\n",
        "val_dir = base_dir / \"val\"\n",
        "train_dir = base_dir / \"train\"\n",
        "train_dir_3 = base_dir / \"train3\"\n",
        "\n",
        "for category in (\"neg\", \"pos\"):\n",
        "    os.makedirs(train_dir_3 / category)\n",
        "    files = os.listdir(train_dir / category)\n",
        "    random.Random(1337).shuffle(files)\n",
        "    num_train_samples_2 = int(0.067 * len(files))\n",
        "    train_files_2 = files[-num_train_samples_2:]\n",
        "    for fname in train_files_2:\n",
        "        shutil.move(train_dir / category / fname,\n",
        "                    train_dir_3 / category / fname)"
      ],
      "metadata": {
        "id": "6FpfzfLXvtH6"
      },
      "execution_count": 20,
      "outputs": []
    },
    {
      "cell_type": "code",
      "source": [
        "from tensorflow import keras\n",
        "batch_size = 32\n",
        "\n",
        "train_ds = keras.utils.text_dataset_from_directory(\n",
        "    \"aclImdb/train\", batch_size=batch_size\n",
        ")\n",
        "val_ds = keras.utils.text_dataset_from_directory(\n",
        "    \"aclImdb/val\", batch_size=batch_size\n",
        ")\n",
        "test_ds = keras.utils.text_dataset_from_directory(\n",
        "    \"aclImdb/test\", batch_size=batch_size\n",
        ")\n",
        "train_ds_3 = keras.utils.text_dataset_from_directory(\n",
        "    \"aclImdb/train3\", batch_size=batch_size\n",
        ")\n",
        "\n",
        "text_only_train_ds_3 = train_ds_3.map(lambda x, y: x)\n",
        "text_vectorization.adapt(text_only_train_ds_3)"
      ],
      "metadata": {
        "colab": {
          "base_uri": "https://localhost:8080/"
        },
        "outputId": "4d5b3b17-dccd-42a7-d15f-ff132f382311",
        "id": "psWwqminzH9c"
      },
      "execution_count": 21,
      "outputs": [
        {
          "output_type": "stream",
          "name": "stdout",
          "text": [
            "Found 13902 files belonging to 2 classes.\n",
            "Found 10000 files belonging to 2 classes.\n",
            "Found 25000 files belonging to 2 classes.\n",
            "Found 998 files belonging to 2 classes.\n"
          ]
        }
      ]
    },
    {
      "cell_type": "markdown",
      "source": [
        "# Establishing another model using an embedding layer training with 998 samples"
      ],
      "metadata": {
        "id": "lQqE-gLaRUnJ"
      }
    },
    {
      "cell_type": "markdown",
      "source": [
        "I'm still keeping the validation samples to 10,000, cutting off reviews after 150 words, and considering only the top 10,000 words for this model and the next model."
      ],
      "metadata": {
        "id": "0rU1B132Rjp2"
      }
    },
    {
      "cell_type": "code",
      "source": [
        "from tensorflow.keras import layers\n",
        "\n",
        "max_length = 150\n",
        "max_tokens = 10000\n",
        "text_vectorization = layers.TextVectorization(\n",
        "    max_tokens=max_tokens,\n",
        "    output_mode=\"int\",\n",
        "    output_sequence_length=max_length,\n",
        ")\n",
        "text_vectorization.adapt(text_only_train_ds_3)\n",
        "\n",
        "int_train_ds = train_ds.map(\n",
        "    lambda x, y: (text_vectorization(x), y),\n",
        "    num_parallel_calls=4)\n",
        "int_val_ds = val_ds.map(\n",
        "    lambda x, y: (text_vectorization(x), y),\n",
        "    num_parallel_calls=4)\n",
        "int_test_ds = test_ds.map(\n",
        "    lambda x, y: (text_vectorization(x), y),\n",
        "    num_parallel_calls=4)\n",
        "int_train_ds_3 = train_ds_3.map(\n",
        "    lambda x, y: (text_vectorization(x), y),\n",
        "    num_parallel_calls=4)"
      ],
      "metadata": {
        "id": "axZtzsM6RgQQ"
      },
      "execution_count": 22,
      "outputs": []
    },
    {
      "cell_type": "code",
      "source": [
        "embedding_layer = layers.Embedding(input_dim=max_tokens, output_dim=256)"
      ],
      "metadata": {
        "id": "YhQ1VlwdSXX3"
      },
      "execution_count": 23,
      "outputs": []
    },
    {
      "cell_type": "code",
      "source": [
        "import tensorflow as tf\n",
        "inputs = keras.Input(shape=(None,), dtype=\"int64\")\n",
        "embedded = layers.Embedding(\n",
        "    input_dim=max_tokens, output_dim=256, mask_zero=True)(inputs)\n",
        "x = layers.Bidirectional(layers.LSTM(32))(embedded)\n",
        "x = layers.Dropout(0.5)(x)\n",
        "outputs = layers.Dense(1, activation=\"sigmoid\")(x)\n",
        "model = keras.Model(inputs, outputs)\n",
        "model.compile(optimizer=\"rmsprop\",\n",
        "              loss=\"binary_crossentropy\",\n",
        "              metrics=[\"accuracy\"])\n",
        "model.summary()\n",
        "\n",
        "callbacks = [\n",
        "    keras.callbacks.ModelCheckpoint(\"embeddings_bidir_gru_with_masking_2.keras\",\n",
        "                                    save_best_only=True)\n",
        "]\n",
        "model.fit(int_train_ds_3, validation_data=int_val_ds, epochs=10, callbacks=callbacks)\n",
        "model = keras.models.load_model(\"embeddings_bidir_gru_with_masking_2.keras\")\n",
        "print(f\"Test acc: {model.evaluate(int_test_ds)[1]:.3f}\")"
      ],
      "metadata": {
        "colab": {
          "base_uri": "https://localhost:8080/"
        },
        "outputId": "afa40adc-450e-4121-ffb7-efa81be56759",
        "id": "TEHcSqfQSbKB"
      },
      "execution_count": 24,
      "outputs": [
        {
          "output_type": "stream",
          "name": "stdout",
          "text": [
            "Model: \"model_3\"\n",
            "_________________________________________________________________\n",
            " Layer (type)                Output Shape              Param #   \n",
            "=================================================================\n",
            " input_4 (InputLayer)        [(None, None)]            0         \n",
            "                                                                 \n",
            " embedding_4 (Embedding)     (None, None, 256)         2560000   \n",
            "                                                                 \n",
            " bidirectional_2 (Bidirecti  (None, 64)                73984     \n",
            " onal)                                                           \n",
            "                                                                 \n",
            " dropout_3 (Dropout)         (None, 64)                0         \n",
            "                                                                 \n",
            " dense_4 (Dense)             (None, 1)                 65        \n",
            "                                                                 \n",
            "=================================================================\n",
            "Total params: 2634049 (10.05 MB)\n",
            "Trainable params: 2634049 (10.05 MB)\n",
            "Non-trainable params: 0 (0.00 Byte)\n",
            "_________________________________________________________________\n",
            "Epoch 1/10\n",
            "32/32 [==============================] - 16s 236ms/step - loss: 0.6924 - accuracy: 0.5190 - val_loss: 0.6904 - val_accuracy: 0.5505\n",
            "Epoch 2/10\n",
            "32/32 [==============================] - 5s 151ms/step - loss: 0.6726 - accuracy: 0.6493 - val_loss: 0.8069 - val_accuracy: 0.5011\n",
            "Epoch 3/10\n",
            "32/32 [==============================] - 5s 145ms/step - loss: 0.5915 - accuracy: 0.7164 - val_loss: 0.6049 - val_accuracy: 0.6866\n",
            "Epoch 4/10\n",
            "32/32 [==============================] - 4s 136ms/step - loss: 0.4329 - accuracy: 0.8437 - val_loss: 0.6040 - val_accuracy: 0.6896\n",
            "Epoch 5/10\n",
            "32/32 [==============================] - 4s 126ms/step - loss: 0.2680 - accuracy: 0.9018 - val_loss: 0.7716 - val_accuracy: 0.5736\n",
            "Epoch 6/10\n",
            "32/32 [==============================] - 4s 112ms/step - loss: 0.1418 - accuracy: 0.9579 - val_loss: 0.5716 - val_accuracy: 0.7588\n",
            "Epoch 7/10\n",
            "32/32 [==============================] - 4s 113ms/step - loss: 0.0793 - accuracy: 0.9820 - val_loss: 0.6639 - val_accuracy: 0.7372\n",
            "Epoch 8/10\n",
            "32/32 [==============================] - 4s 115ms/step - loss: 0.0410 - accuracy: 0.9950 - val_loss: 0.7429 - val_accuracy: 0.7640\n",
            "Epoch 9/10\n",
            "32/32 [==============================] - 3s 111ms/step - loss: 0.0278 - accuracy: 0.9940 - val_loss: 0.6462 - val_accuracy: 0.7632\n",
            "Epoch 10/10\n",
            "32/32 [==============================] - 4s 110ms/step - loss: 0.0203 - accuracy: 0.9980 - val_loss: 0.8922 - val_accuracy: 0.7649\n",
            "782/782 [==============================] - 10s 8ms/step - loss: 0.5822 - accuracy: 0.7586\n",
            "Test acc: 0.759\n"
          ]
        }
      ]
    },
    {
      "cell_type": "markdown",
      "source": [
        "Training a model with an embedding layer (trained from scratch) yields a validation accuracy of ~76.8% (at best) and a test accuracy of ~74.7% when using 998 training samples. This is a significant improvement in performance compared to only training on 100 samples.\n",
        "\n",
        "I'm now going to see how this performance compares to a model using a pretrained word embedding layer with 998 training samples."
      ],
      "metadata": {
        "id": "Cg9GX60oSpqx"
      }
    },
    {
      "cell_type": "markdown",
      "source": [
        "# Establishing another model using pretrained word embedding with 998 training samples"
      ],
      "metadata": {
        "id": "pVgMvNASTUdf"
      }
    },
    {
      "cell_type": "code",
      "source": [
        "inputs = keras.Input(shape=(None,), dtype=\"int64\")\n",
        "embedded = embedding_layer(inputs)\n",
        "x = layers.Bidirectional(layers.LSTM(32))(embedded)\n",
        "x = layers.Dropout(0.5)(x)\n",
        "outputs = layers.Dense(1, activation=\"sigmoid\")(x)\n",
        "model = keras.Model(inputs, outputs)\n",
        "model.compile(optimizer=\"rmsprop\",\n",
        "              loss=\"binary_crossentropy\",\n",
        "              metrics=[\"accuracy\"])\n",
        "model.summary()\n",
        "\n",
        "callbacks = [\n",
        "    keras.callbacks.ModelCheckpoint(\"glove_embeddings_sequence_model_2.keras\",\n",
        "                                    save_best_only=True)\n",
        "]\n",
        "model.fit(int_train_ds_3, validation_data=int_val_ds, epochs=10, callbacks=callbacks)\n",
        "model = keras.models.load_model(\"glove_embeddings_sequence_model_2.keras\")\n",
        "print(f\"Test acc: {model.evaluate(int_test_ds)[1]:.3f}\")"
      ],
      "metadata": {
        "colab": {
          "base_uri": "https://localhost:8080/"
        },
        "outputId": "05dd5a74-33d8-4e3c-faad-7862d0220aac",
        "id": "o8chyUD_Th5m"
      },
      "execution_count": 25,
      "outputs": [
        {
          "output_type": "stream",
          "name": "stdout",
          "text": [
            "Model: \"model_4\"\n",
            "_________________________________________________________________\n",
            " Layer (type)                Output Shape              Param #   \n",
            "=================================================================\n",
            " input_5 (InputLayer)        [(None, None)]            0         \n",
            "                                                                 \n",
            " embedding_3 (Embedding)     (None, None, 256)         2560000   \n",
            "                                                                 \n",
            " bidirectional_3 (Bidirecti  (None, 64)                73984     \n",
            " onal)                                                           \n",
            "                                                                 \n",
            " dropout_4 (Dropout)         (None, 64)                0         \n",
            "                                                                 \n",
            " dense_5 (Dense)             (None, 1)                 65        \n",
            "                                                                 \n",
            "=================================================================\n",
            "Total params: 2634049 (10.05 MB)\n",
            "Trainable params: 2634049 (10.05 MB)\n",
            "Non-trainable params: 0 (0.00 Byte)\n",
            "_________________________________________________________________\n",
            "Epoch 1/10\n",
            "32/32 [==============================] - 10s 174ms/step - loss: 0.6937 - accuracy: 0.5030 - val_loss: 0.6923 - val_accuracy: 0.5159\n",
            "Epoch 2/10\n",
            "32/32 [==============================] - 4s 126ms/step - loss: 0.6866 - accuracy: 0.5962 - val_loss: 0.6906 - val_accuracy: 0.5409\n",
            "Epoch 3/10\n",
            "32/32 [==============================] - 4s 125ms/step - loss: 0.6704 - accuracy: 0.6583 - val_loss: 0.6824 - val_accuracy: 0.5612\n",
            "Epoch 4/10\n",
            "32/32 [==============================] - 4s 127ms/step - loss: 0.6023 - accuracy: 0.7054 - val_loss: 0.6036 - val_accuracy: 0.6733\n",
            "Epoch 5/10\n",
            "32/32 [==============================] - 4s 112ms/step - loss: 0.4626 - accuracy: 0.7976 - val_loss: 1.1308 - val_accuracy: 0.5363\n",
            "Epoch 6/10\n",
            "32/32 [==============================] - 4s 121ms/step - loss: 0.3232 - accuracy: 0.8808 - val_loss: 0.5371 - val_accuracy: 0.7238\n",
            "Epoch 7/10\n",
            "32/32 [==============================] - 3s 103ms/step - loss: 0.1983 - accuracy: 0.9369 - val_loss: 0.5896 - val_accuracy: 0.7503\n",
            "Epoch 8/10\n",
            "32/32 [==============================] - 3s 101ms/step - loss: 0.1366 - accuracy: 0.9569 - val_loss: 0.5841 - val_accuracy: 0.7576\n",
            "Epoch 9/10\n",
            "32/32 [==============================] - 3s 100ms/step - loss: 0.0502 - accuracy: 0.9910 - val_loss: 1.1495 - val_accuracy: 0.6269\n",
            "Epoch 10/10\n",
            "32/32 [==============================] - 3s 90ms/step - loss: 0.0560 - accuracy: 0.9860 - val_loss: 0.8041 - val_accuracy: 0.7619\n",
            "782/782 [==============================] - 7s 7ms/step - loss: 0.5470 - accuracy: 0.7186\n",
            "Test acc: 0.719\n"
          ]
        }
      ]
    },
    {
      "cell_type": "markdown",
      "source": [
        "Training a model with a pretrained word embedding layer yields a validation accuracy of ~75.6% (at best) and a test accuracy of ~73.8% when using 998 training samples. Again, this is a significant improvement in performance compared to only training on 100 samples.\n",
        "\n",
        "This model is still performing comparably to the model using an embedding layer trained from scratch, but appears to be performing worse overall when using 998 training samples (based on running both models multiple times at this training sample size). It appears it doesn't take a very large training sample size for the embedding layer model to outperform the pretrained word embedding layer model.\n",
        "\n",
        "I'm now going to decrease the training samples to about 500 to see if that is sufficient to allow the embedding layer model to outperform the pretrained embedding layer model."
      ],
      "metadata": {
        "id": "UCM4sarwUc8u"
      }
    },
    {
      "cell_type": "markdown",
      "source": [
        "# Decreasing the training samples to 486 (about 500)"
      ],
      "metadata": {
        "id": "UL-AYD7UWjMg"
      }
    },
    {
      "cell_type": "code",
      "source": [
        "import os, pathlib, shutil, random\n",
        "\n",
        "base_dir = pathlib.Path(\"aclImdb\")\n",
        "val_dir = base_dir / \"val\"\n",
        "train_dir = base_dir / \"train\"\n",
        "train_dir_4 = base_dir / \"train4\"\n",
        "\n",
        "for category in (\"neg\", \"pos\"):\n",
        "    os.makedirs(train_dir_4 / category)\n",
        "    files = os.listdir(train_dir / category)\n",
        "    random.Random(1337).shuffle(files)\n",
        "    num_train_samples_3 = int(0.035 * len(files))\n",
        "    train_files_3 = files[-num_train_samples_3:]\n",
        "    for fname in train_files_3:\n",
        "        shutil.move(train_dir / category / fname,\n",
        "                    train_dir_4 / category / fname)"
      ],
      "metadata": {
        "id": "m_nHNjvZWpvk"
      },
      "execution_count": 26,
      "outputs": []
    },
    {
      "cell_type": "code",
      "source": [
        "from tensorflow import keras\n",
        "batch_size = 32\n",
        "\n",
        "train_ds = keras.utils.text_dataset_from_directory(\n",
        "    \"aclImdb/train\", batch_size=batch_size\n",
        ")\n",
        "val_ds = keras.utils.text_dataset_from_directory(\n",
        "    \"aclImdb/val\", batch_size=batch_size\n",
        ")\n",
        "test_ds = keras.utils.text_dataset_from_directory(\n",
        "    \"aclImdb/test\", batch_size=batch_size\n",
        ")\n",
        "train_ds_4 = keras.utils.text_dataset_from_directory(\n",
        "    \"aclImdb/train4\", batch_size=batch_size\n",
        ")\n",
        "\n",
        "text_only_train_ds_4 = train_ds_4.map(lambda x, y: x)\n",
        "text_vectorization.adapt(text_only_train_ds_4)"
      ],
      "metadata": {
        "colab": {
          "base_uri": "https://localhost:8080/"
        },
        "outputId": "5a808088-a30b-4d7b-8f55-ac142a51db67",
        "id": "3upWzb_PWsZy"
      },
      "execution_count": 27,
      "outputs": [
        {
          "output_type": "stream",
          "name": "stdout",
          "text": [
            "Found 13416 files belonging to 2 classes.\n",
            "Found 10000 files belonging to 2 classes.\n",
            "Found 25000 files belonging to 2 classes.\n",
            "Found 486 files belonging to 2 classes.\n"
          ]
        }
      ]
    },
    {
      "cell_type": "markdown",
      "source": [
        "# Establishing another model using an embedding layer with around 500 training samples"
      ],
      "metadata": {
        "id": "oh-gBqxJYiUW"
      }
    },
    {
      "cell_type": "markdown",
      "source": [
        "Again, I'm still keeping the validation samples to 10,000, cutting off reviews after 150 words, and considering only the top 10,000 words for this model and the next model."
      ],
      "metadata": {
        "id": "GoCVHx5NYnsF"
      }
    },
    {
      "cell_type": "code",
      "source": [
        "from tensorflow.keras import layers\n",
        "\n",
        "max_length = 150\n",
        "max_tokens = 10000\n",
        "text_vectorization = layers.TextVectorization(\n",
        "    max_tokens=max_tokens,\n",
        "    output_mode=\"int\",\n",
        "    output_sequence_length=max_length,\n",
        ")\n",
        "text_vectorization.adapt(text_only_train_ds_4)\n",
        "\n",
        "int_train_ds = train_ds.map(\n",
        "    lambda x, y: (text_vectorization(x), y),\n",
        "    num_parallel_calls=4)\n",
        "int_val_ds = val_ds.map(\n",
        "    lambda x, y: (text_vectorization(x), y),\n",
        "    num_parallel_calls=4)\n",
        "int_test_ds = test_ds.map(\n",
        "    lambda x, y: (text_vectorization(x), y),\n",
        "    num_parallel_calls=4)\n",
        "int_train_ds_4 = train_ds_4.map(\n",
        "    lambda x, y: (text_vectorization(x), y),\n",
        "    num_parallel_calls=4)"
      ],
      "metadata": {
        "id": "UpXu6avWY8On"
      },
      "execution_count": 28,
      "outputs": []
    },
    {
      "cell_type": "code",
      "source": [
        "embedding_layer = layers.Embedding(input_dim=max_tokens, output_dim=256)"
      ],
      "metadata": {
        "id": "swZ4yTwDY_lj"
      },
      "execution_count": 29,
      "outputs": []
    },
    {
      "cell_type": "code",
      "source": [
        "import tensorflow as tf\n",
        "inputs = keras.Input(shape=(None,), dtype=\"int64\")\n",
        "embedded = layers.Embedding(\n",
        "    input_dim=max_tokens, output_dim=256, mask_zero=True)(inputs)\n",
        "x = layers.Bidirectional(layers.LSTM(32))(embedded)\n",
        "x = layers.Dropout(0.5)(x)\n",
        "outputs = layers.Dense(1, activation=\"sigmoid\")(x)\n",
        "model = keras.Model(inputs, outputs)\n",
        "model.compile(optimizer=\"rmsprop\",\n",
        "              loss=\"binary_crossentropy\",\n",
        "              metrics=[\"accuracy\"])\n",
        "model.summary()\n",
        "\n",
        "callbacks = [\n",
        "    keras.callbacks.ModelCheckpoint(\"embeddings_bidir_gru_with_masking_3.keras\",\n",
        "                                    save_best_only=True)\n",
        "]\n",
        "model.fit(int_train_ds_4, validation_data=int_val_ds, epochs=10, callbacks=callbacks)\n",
        "model = keras.models.load_model(\"embeddings_bidir_gru_with_masking_3.keras\")\n",
        "print(f\"Test acc: {model.evaluate(int_test_ds)[1]:.3f}\")"
      ],
      "metadata": {
        "colab": {
          "base_uri": "https://localhost:8080/"
        },
        "outputId": "cc004274-4f4d-4ed8-91ff-5b7d3d35224f",
        "id": "jej9wMcCZDTK"
      },
      "execution_count": 30,
      "outputs": [
        {
          "output_type": "stream",
          "name": "stdout",
          "text": [
            "Model: \"model_5\"\n",
            "_________________________________________________________________\n",
            " Layer (type)                Output Shape              Param #   \n",
            "=================================================================\n",
            " input_6 (InputLayer)        [(None, None)]            0         \n",
            "                                                                 \n",
            " embedding_6 (Embedding)     (None, None, 256)         2560000   \n",
            "                                                                 \n",
            " bidirectional_4 (Bidirecti  (None, 64)                73984     \n",
            " onal)                                                           \n",
            "                                                                 \n",
            " dropout_5 (Dropout)         (None, 64)                0         \n",
            "                                                                 \n",
            " dense_6 (Dense)             (None, 1)                 65        \n",
            "                                                                 \n",
            "=================================================================\n",
            "Total params: 2634049 (10.05 MB)\n",
            "Trainable params: 2634049 (10.05 MB)\n",
            "Non-trainable params: 0 (0.00 Byte)\n",
            "_________________________________________________________________\n",
            "Epoch 1/10\n",
            "16/16 [==============================] - 14s 410ms/step - loss: 0.6940 - accuracy: 0.4753 - val_loss: 0.6927 - val_accuracy: 0.5180\n",
            "Epoch 2/10\n",
            "16/16 [==============================] - 4s 246ms/step - loss: 0.6842 - accuracy: 0.6399 - val_loss: 0.6920 - val_accuracy: 0.5182\n",
            "Epoch 3/10\n",
            "16/16 [==============================] - 4s 254ms/step - loss: 0.6721 - accuracy: 0.7263 - val_loss: 0.6889 - val_accuracy: 0.5527\n",
            "Epoch 4/10\n",
            "16/16 [==============================] - 3s 219ms/step - loss: 0.6356 - accuracy: 0.8025 - val_loss: 0.6968 - val_accuracy: 0.5556\n",
            "Epoch 5/10\n",
            "16/16 [==============================] - 3s 223ms/step - loss: 0.5343 - accuracy: 0.7778 - val_loss: 0.6135 - val_accuracy: 0.6766\n",
            "Epoch 6/10\n",
            "16/16 [==============================] - 3s 204ms/step - loss: 0.3647 - accuracy: 0.8868 - val_loss: 0.8819 - val_accuracy: 0.6049\n",
            "Epoch 7/10\n",
            "16/16 [==============================] - 3s 224ms/step - loss: 0.2712 - accuracy: 0.9053 - val_loss: 0.7448 - val_accuracy: 0.6550\n",
            "Epoch 8/10\n",
            "16/16 [==============================] - 3s 212ms/step - loss: 0.1360 - accuracy: 0.9671 - val_loss: 0.5965 - val_accuracy: 0.7201\n",
            "Epoch 9/10\n",
            "16/16 [==============================] - 3s 198ms/step - loss: 0.0712 - accuracy: 0.9918 - val_loss: 0.6259 - val_accuracy: 0.7362\n",
            "Epoch 10/10\n",
            "16/16 [==============================] - 3s 219ms/step - loss: 0.0371 - accuracy: 0.9959 - val_loss: 0.7957 - val_accuracy: 0.6846\n",
            "782/782 [==============================] - 10s 7ms/step - loss: 0.5927 - accuracy: 0.7215\n",
            "Test acc: 0.722\n"
          ]
        }
      ]
    },
    {
      "cell_type": "markdown",
      "source": [
        "Training a model with an embedding layer (trained from scratch) yields a validation accuracy of ~72.9% (at best) and a test accuracy of ~71.1% when using ~500 training samples. This is again a significant improvement in performance compared to only training on 100 samples, but not as good as training on close to 1,000 samples.\n",
        "\n",
        "I'm now going to see how this performance compares to a model using a pretrained word embedding layer with around 500 training samples to see if only ~500 training samples is sufficient to enable the embedding layer model trained from scratch to outperform the pretrained word embedding model."
      ],
      "metadata": {
        "id": "U3Je2iy9ZIXt"
      }
    },
    {
      "cell_type": "markdown",
      "source": [
        "# Establishing a model using pretrained word embedding with around 500 training samples"
      ],
      "metadata": {
        "id": "K7rodMSjZMMb"
      }
    },
    {
      "cell_type": "code",
      "source": [
        "inputs = keras.Input(shape=(None,), dtype=\"int64\")\n",
        "embedded = embedding_layer(inputs)\n",
        "x = layers.Bidirectional(layers.LSTM(32))(embedded)\n",
        "x = layers.Dropout(0.5)(x)\n",
        "outputs = layers.Dense(1, activation=\"sigmoid\")(x)\n",
        "model = keras.Model(inputs, outputs)\n",
        "model.compile(optimizer=\"rmsprop\",\n",
        "              loss=\"binary_crossentropy\",\n",
        "              metrics=[\"accuracy\"])\n",
        "model.summary()\n",
        "\n",
        "callbacks = [\n",
        "    keras.callbacks.ModelCheckpoint(\"glove_embeddings_sequence_model_3.keras\",\n",
        "                                    save_best_only=True)\n",
        "]\n",
        "model.fit(int_train_ds_4, validation_data=int_val_ds, epochs=10, callbacks=callbacks)\n",
        "model = keras.models.load_model(\"glove_embeddings_sequence_model_3.keras\")\n",
        "print(f\"Test acc: {model.evaluate(int_test_ds)[1]:.3f}\")"
      ],
      "metadata": {
        "colab": {
          "base_uri": "https://localhost:8080/"
        },
        "outputId": "3b1f1100-6b78-4f97-a53a-940d292487f8",
        "id": "DMN9-sSHZYqb"
      },
      "execution_count": 31,
      "outputs": [
        {
          "output_type": "stream",
          "name": "stdout",
          "text": [
            "Model: \"model_6\"\n",
            "_________________________________________________________________\n",
            " Layer (type)                Output Shape              Param #   \n",
            "=================================================================\n",
            " input_7 (InputLayer)        [(None, None)]            0         \n",
            "                                                                 \n",
            " embedding_5 (Embedding)     (None, None, 256)         2560000   \n",
            "                                                                 \n",
            " bidirectional_5 (Bidirecti  (None, 64)                73984     \n",
            " onal)                                                           \n",
            "                                                                 \n",
            " dropout_6 (Dropout)         (None, 64)                0         \n",
            "                                                                 \n",
            " dense_7 (Dense)             (None, 1)                 65        \n",
            "                                                                 \n",
            "=================================================================\n",
            "Total params: 2634049 (10.05 MB)\n",
            "Trainable params: 2634049 (10.05 MB)\n",
            "Non-trainable params: 0 (0.00 Byte)\n",
            "_________________________________________________________________\n",
            "Epoch 1/10\n",
            "16/16 [==============================] - 7s 256ms/step - loss: 0.6934 - accuracy: 0.4938 - val_loss: 0.6936 - val_accuracy: 0.5270\n",
            "Epoch 2/10\n",
            "16/16 [==============================] - 3s 209ms/step - loss: 0.6813 - accuracy: 0.6235 - val_loss: 0.6918 - val_accuracy: 0.5348\n",
            "Epoch 3/10\n",
            "16/16 [==============================] - 3s 199ms/step - loss: 0.6530 - accuracy: 0.6770 - val_loss: 0.6466 - val_accuracy: 0.6407\n",
            "Epoch 4/10\n",
            "16/16 [==============================] - 3s 182ms/step - loss: 0.5829 - accuracy: 0.7325 - val_loss: 0.6682 - val_accuracy: 0.5780\n",
            "Epoch 5/10\n",
            "16/16 [==============================] - 3s 187ms/step - loss: 0.4592 - accuracy: 0.8354 - val_loss: 0.6046 - val_accuracy: 0.6794\n",
            "Epoch 6/10\n",
            "16/16 [==============================] - 3s 192ms/step - loss: 0.3665 - accuracy: 0.9177 - val_loss: 0.5924 - val_accuracy: 0.6935\n",
            "Epoch 7/10\n",
            "16/16 [==============================] - 3s 196ms/step - loss: 0.2617 - accuracy: 0.9527 - val_loss: 0.5894 - val_accuracy: 0.7080\n",
            "Epoch 8/10\n",
            "16/16 [==============================] - 3s 167ms/step - loss: 0.1667 - accuracy: 0.9774 - val_loss: 0.5925 - val_accuracy: 0.6898\n",
            "Epoch 9/10\n",
            "16/16 [==============================] - 3s 178ms/step - loss: 0.1509 - accuracy: 0.9753 - val_loss: 0.6268 - val_accuracy: 0.6787\n",
            "Epoch 10/10\n",
            "16/16 [==============================] - 3s 187ms/step - loss: 0.0969 - accuracy: 0.9877 - val_loss: 0.6355 - val_accuracy: 0.6546\n",
            "782/782 [==============================] - 6s 6ms/step - loss: 0.5889 - accuracy: 0.7047\n",
            "Test acc: 0.705\n"
          ]
        }
      ]
    },
    {
      "cell_type": "markdown",
      "source": [
        "Training a model with a pretrained embedding layer yields a validation accuracy of ~71.4% (at best) and a test accuracy of ~68.8% when using ~500 training samples. This is again a significant improvement in performance compared to only training on 100 samples, but also not as good as training on close to 1,000 samples.\n",
        "\n",
        "It appears that the model with the embedding layer trained from scratch overall outperforms the model with the pretrained layer, even with only ~500 training samples. It appears that it doesn't take a large training sample for the model with the embedding layer trained from scratch to outperform the model with the pretrained embedding layer on this dataset."
      ],
      "metadata": {
        "id": "1NgEThoxC9ok"
      }
    },
    {
      "cell_type": "markdown",
      "source": [
        "# Conclusion"
      ],
      "metadata": {
        "id": "2SXefdzWDCYN"
      }
    },
    {
      "cell_type": "code",
      "source": [
        "import pandas"
      ],
      "metadata": {
        "id": "2qOYKfqr-Ouh"
      },
      "execution_count": 32,
      "outputs": []
    },
    {
      "cell_type": "code",
      "source": [
        "data_models = [['Bag-of-Words', 100], ['Embed from Scratch', 100], ['Pretrain Embed', 100], ['Embed from Scratch', 998], ['Pretrain Embed', 998], ['Embed from Scratch', 486], ['Pretrain Embed', 486]]"
      ],
      "metadata": {
        "id": "IxEmcxNsVrmJ"
      },
      "execution_count": 38,
      "outputs": []
    },
    {
      "cell_type": "code",
      "source": [
        "df = pandas.DataFrame(data_models, index=[1,2,3,4,5,6,7], columns=['Model Type', 'Train Sample Size'])\n",
        "print(df)"
      ],
      "metadata": {
        "colab": {
          "base_uri": "https://localhost:8080/"
        },
        "outputId": "b17ad20c-0711-427f-b575-d6751037e66e",
        "id": "HhhPVV99DkxN"
      },
      "execution_count": 39,
      "outputs": [
        {
          "output_type": "stream",
          "name": "stdout",
          "text": [
            "           Model Type  Train Sample Size\n",
            "1        Bag-of-Words                100\n",
            "2  Embed from Scratch                100\n",
            "3      Pretrain Embed                100\n",
            "4  Embed from Scratch                998\n",
            "5      Pretrain Embed                998\n",
            "6  Embed from Scratch                486\n",
            "7      Pretrain Embed                486\n"
          ]
        }
      ]
    },
    {
      "cell_type": "code",
      "source": [
        "data_avgs = [[71.2, 70.9], [53.0, 53.7], [54.0, 54.7], [76.8, 74.7], [75.6, 73.8], [72.9, 71.1], [71.4, 68.8]]"
      ],
      "metadata": {
        "id": "yKwuP-VIYCHB"
      },
      "execution_count": 35,
      "outputs": []
    },
    {
      "cell_type": "code",
      "source": [
        "df2 = pandas.DataFrame(data_avgs, index=[1,2,3,4,5,6,7], columns=['Validation Accuracy', 'Test Accuracy'])\n",
        "print(df2)"
      ],
      "metadata": {
        "colab": {
          "base_uri": "https://localhost:8080/"
        },
        "id": "-ue92VINBVnR",
        "outputId": "3d39836d-62ec-4826-9abc-c84393c73b45"
      },
      "execution_count": 36,
      "outputs": [
        {
          "output_type": "stream",
          "name": "stdout",
          "text": [
            "   Validation Accuracy  Test Accuracy\n",
            "1                 71.2           70.9\n",
            "2                 53.0           53.7\n",
            "3                 54.0           54.7\n",
            "4                 76.8           74.7\n",
            "5                 75.6           73.8\n",
            "6                 72.9           71.1\n",
            "7                 71.4           68.8\n"
          ]
        }
      ]
    },
    {
      "cell_type": "code",
      "source": [
        "plot = df2.plot.bar(ylim=(52.0, 78.0), rot= 0, title=\"Model Performance\")\n",
        "plot.set_xlabel(\"Model Number\")\n",
        "plot.set_ylabel(\"Accuracy (%)\")\n",
        "plot"
      ],
      "metadata": {
        "colab": {
          "base_uri": "https://localhost:8080/",
          "height": 489
        },
        "id": "VIzrd9x9Epw3",
        "outputId": "e226eee6-65a8-4881-d803-1ad199a1ff45"
      },
      "execution_count": 37,
      "outputs": [
        {
          "output_type": "execute_result",
          "data": {
            "text/plain": [
              "<Axes: title={'center': 'Model Performance'}, xlabel='Model Number', ylabel='Accuracy (%)'>"
            ]
          },
          "metadata": {},
          "execution_count": 37
        },
        {
          "output_type": "display_data",
          "data": {
            "text/plain": [
              "<Figure size 640x480 with 1 Axes>"
            ],
            "image/png": "[encoded data removed]"
          },
          "metadata": {}
        }
      ]
    },
    {
      "cell_type": "markdown",
      "source": [
        "## In conclusion, when using only 100 training samples, the model with a pretrained embedding layer performed very comparably to the model with an embedding layer trained from scratch, and at times, performed better than the embedding layer model trained from scratch. The model with a pretrained embedding layer yielded about 54.0% validation accuracy and 54.7% test accuracy compared to the embedding model trained from scratch which yielded about 53.0% validation accuracy 53.7% test accuracy.\n",
        "\n",
        "## When increasing the training sample size to 998, the model with an embedding layer trained from scratch outperformed the model with a pretrained embedding layer. The model with an embedding layer trained from scratch yielded a validation accuracy of ~76.8% and a test accuracy of ~74.7% compared to the model with a pretrained embedding layer which resulted in a validation accuracy of ~75.6% and a test accuracy of ~73.8%. Both of these models performed significantly better at 1,000 training samples vs. the initial 100 training samples.\n",
        "\n",
        "## After seeing that the model with an embedding layer trained from scratch outperformed the model with a pretrained embedding layer at around 1,000 training samples, I decreased the number of training samples to 486 (roughly half) to see if this was enough samples to allow the embedding layer trained from scratch to outperform the pretrained embedding layer. It appears that roughly 500 training samples is enough for the model with the embedding layer trained from scratch to perform better (validation accuracy of ~72.9%, test accuracy of ~71.1%). This is in comparison to the model with a pretrained embedding layer, which resulted in a validation accuracy of ~71.4% and a test accuracy of ~68.8%. It appears that it doesn't take a large training sample for the model with the embedding layer trained from scratch to outperform the model with the pretrained embedding layer on this dataset.\n",
        "\n",
        "## Lastly, the bag-of-word model displayed great potential, performing surprisingly well at only 100 training samples (71.2% validation accuracy, 70.9% test accuracy). Because this assignment was focused on models using embedding layers trained from scratch vs. models using pretrained embedding layers, I didn't attempt the bag-of-word approach on larger sample sizes, but I'm confident it would perform very well on a larger sample given how well it performed at only 100 training samples."
      ],
      "metadata": {
        "id": "TskhiFF0cbn8"
      }
    }
  ]
}