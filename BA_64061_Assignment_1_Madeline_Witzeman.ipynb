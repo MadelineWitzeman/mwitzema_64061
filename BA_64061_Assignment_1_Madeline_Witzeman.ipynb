{
  "nbformat": 4,
  "nbformat_minor": 0,
  "metadata": {
    "colab": {
      "provenance": [],
      "toc_visible": true,
      "gpuType": "T4"
    },
    "kernelspec": {
      "name": "python3",
      "display_name": "Python 3"
    },
    "language_info": {
      "name": "python"
    },
    "accelerator": "GPU"
  },
  "cells": [
    {
      "cell_type": "markdown",
      "source": [
        "# Assignment 1: Neural Networks\n",
        "# BA 64061-003\n",
        "# Madeline Witzeman"
      ],
      "metadata": {
        "id": "H0ae2tCON1u2"
      }
    },
    {
      "cell_type": "markdown",
      "source": [
        "# First Step: Loading the IMDb dataset"
      ],
      "metadata": {
        "id": "FFpUW9cb5q45"
      }
    },
    {
      "cell_type": "code",
      "execution_count": 1,
      "metadata": {
        "id": "KfkNB2UEt-0o"
      },
      "outputs": [],
      "source": [
        "import tensorflow\n",
        "from tensorflow.keras.datasets import imdb\n",
        "(train_data, train_labels), (test_data, test_labels) = imdb.load_data(\n",
        "    num_words=10000)"
      ]
    },
    {
      "cell_type": "markdown",
      "source": [
        "# Second Step: Recreating the IMDb example studied in class so I have a baseline model to compare against when trying to improve model performance"
      ],
      "metadata": {
        "id": "itBMVqQ_6YHI"
      }
    },
    {
      "cell_type": "markdown",
      "source": [
        "## Preparing the data\n",
        "\n",
        "Encoding the integer sequences via multi-hot encoding so the data is ready to be fed into a neural network"
      ],
      "metadata": {
        "id": "gFSdbqUtCq8I"
      }
    },
    {
      "cell_type": "code",
      "source": [
        "import numpy as np\n",
        "def vectorize_sequences(sequences, dimension=10000):\n",
        "    results = np.zeros((len(sequences), dimension))\n",
        "    for i, sequence in enumerate(sequences):\n",
        "        for j in sequence:\n",
        "            results[i, j] = 1.\n",
        "    return results\n",
        "x_train = vectorize_sequences(train_data)\n",
        "x_test = vectorize_sequences(test_data)"
      ],
      "metadata": {
        "id": "GVmmts1hDJzh"
      },
      "execution_count": 2,
      "outputs": []
    },
    {
      "cell_type": "markdown",
      "source": [
        "Vectorizing labels:"
      ],
      "metadata": {
        "id": "lvzrkLvEDr1Q"
      }
    },
    {
      "cell_type": "code",
      "source": [
        "y_train = np.asarray(train_labels).astype(\"float32\")\n",
        "y_test = np.asarray(test_labels).astype(\"float32\")"
      ],
      "metadata": {
        "id": "LeHWAj3kDmL7"
      },
      "execution_count": 3,
      "outputs": []
    },
    {
      "cell_type": "markdown",
      "source": [
        "## Building the model"
      ],
      "metadata": {
        "id": "gpsiqFErEblP"
      }
    },
    {
      "cell_type": "markdown",
      "source": [
        "Defining the model:"
      ],
      "metadata": {
        "id": "A2lAqi__EG7H"
      }
    },
    {
      "cell_type": "code",
      "source": [
        "from tensorflow import keras\n",
        "from tensorflow.keras import layers\n",
        "\n",
        "model = keras.Sequential([\n",
        "    layers.Dense(16, activation=\"relu\"),\n",
        "    layers.Dense(16, activation=\"relu\"),\n",
        "    layers.Dense(1, activation=\"sigmoid\")\n",
        "])"
      ],
      "metadata": {
        "id": "U8U-gX4xEJXK"
      },
      "execution_count": 4,
      "outputs": []
    },
    {
      "cell_type": "markdown",
      "source": [
        "Compiling the model:"
      ],
      "metadata": {
        "id": "x_dSWLx4bgX7"
      }
    },
    {
      "cell_type": "code",
      "source": [
        "model.compile(optimizer=\"rmsprop\",\n",
        "              loss=\"binary_crossentropy\",\n",
        "              metrics=[\"accuracy\"])"
      ],
      "metadata": {
        "id": "okh7W2oubjCh"
      },
      "execution_count": 5,
      "outputs": []
    },
    {
      "cell_type": "markdown",
      "source": [
        "## Validating approach"
      ],
      "metadata": {
        "id": "6Kwrb6eYdYJM"
      }
    },
    {
      "cell_type": "markdown",
      "source": [
        "Setting aside validation set:"
      ],
      "metadata": {
        "id": "YNbwY2FRddlm"
      }
    },
    {
      "cell_type": "code",
      "source": [
        "x_val = x_train[:10000]\n",
        "partial_x_train = x_train[10000:]\n",
        "y_val = y_train[:10000]\n",
        "partial_y_train = y_train[10000:]"
      ],
      "metadata": {
        "id": "HAt-b7BlddBR"
      },
      "execution_count": 6,
      "outputs": []
    },
    {
      "cell_type": "markdown",
      "source": [
        "Training the model (using epoch = 4, determined as best epoch value in the textbook):"
      ],
      "metadata": {
        "id": "OWewmvcIdpKp"
      }
    },
    {
      "cell_type": "code",
      "source": [
        "history = model.fit(partial_x_train,\n",
        "                    partial_y_train,\n",
        "                    epochs=4,\n",
        "                    batch_size=512,\n",
        "                    validation_data=(x_val, y_val))"
      ],
      "metadata": {
        "colab": {
          "base_uri": "https://localhost:8080/"
        },
        "id": "uBbpuEvRdqjj",
        "outputId": "189b7355-1501-4429-89ae-cbb5c42d2f15"
      },
      "execution_count": 36,
      "outputs": [
        {
          "output_type": "stream",
          "name": "stdout",
          "text": [
            "Epoch 1/4\n",
            "30/30 [==============================] - 9s 237ms/step - loss: 0.5537 - accuracy: 0.7701 - val_loss: 0.4257 - val_accuracy: 0.8623\n",
            "Epoch 2/4\n",
            "30/30 [==============================] - 1s 43ms/step - loss: 0.3569 - accuracy: 0.8880 - val_loss: 0.3384 - val_accuracy: 0.8762\n",
            "Epoch 3/4\n",
            "30/30 [==============================] - 1s 42ms/step - loss: 0.2684 - accuracy: 0.9137 - val_loss: 0.3033 - val_accuracy: 0.8817\n",
            "Epoch 4/4\n",
            "30/30 [==============================] - 1s 40ms/step - loss: 0.2154 - accuracy: 0.9314 - val_loss: 0.2848 - val_accuracy: 0.8875\n"
          ]
        }
      ]
    },
    {
      "cell_type": "code",
      "source": [
        "results = model.evaluate(x_test, y_test)\n",
        "results"
      ],
      "metadata": {
        "colab": {
          "base_uri": "https://localhost:8080/"
        },
        "id": "XmRguo11egpa",
        "outputId": "b2664458-a687-43c0-bd63-8bb485d07ed1"
      },
      "execution_count": 37,
      "outputs": [
        {
          "output_type": "stream",
          "name": "stdout",
          "text": [
            "782/782 [==============================] - 2s 2ms/step - loss: 0.2992 - accuracy: 0.8805\n"
          ]
        },
        {
          "output_type": "execute_result",
          "data": {
            "text/plain": [
              "[0.2992163598537445, 0.8805199861526489]"
            ]
          },
          "metadata": {},
          "execution_count": 37
        }
      ]
    },
    {
      "cell_type": "markdown",
      "source": [
        "Using two hidden layers, 16 hidden units, binary_crossentropy loss function, relu activation, and epoch = 4 yields 88.34% accuracy on the validation dataset and 87.69% accuracy on the test dataset, on average."
      ],
      "metadata": {
        "id": "MCQP4Bp8fCw0"
      }
    },
    {
      "cell_type": "markdown",
      "source": [
        "Since the neural network I'm utilizing implements stochastic learning, the model produces different validation and test accuracies each time it is run. To arrive at the validation and test accuracies for each model, I will take the average of 5 runs:\n",
        "\n",
        "1.   Val: .8837; Test: .8789\n",
        "2.   Val: .8762; Test: .8666\n",
        "3.   Val: .8846; Test: .8785\n",
        "4.   Val: .8879; Test: .8847\n",
        "5.   Val: .8847; Test: .8756\n",
        "\n",
        "Average - Val: .8834; Test: .8769\n",
        "\n"
      ],
      "metadata": {
        "id": "4DIWEW1wKCSA"
      }
    },
    {
      "cell_type": "markdown",
      "source": [
        "Now that I know the validation and test accuracy of the baseline model, I'm going to try various approaches to improve the model's performance by altering one parameter at a time."
      ],
      "metadata": {
        "id": "XTJg-SSvoXVz"
      }
    },
    {
      "cell_type": "markdown",
      "source": [
        "# Next approach: Using one hidden layer instead of two hidden layers"
      ],
      "metadata": {
        "id": "0aaTzLI-oKkl"
      }
    },
    {
      "cell_type": "markdown",
      "source": [
        "## Retraining the model"
      ],
      "metadata": {
        "id": "wuZwrMJyowTE"
      }
    },
    {
      "cell_type": "code",
      "source": [
        "model_2 = keras.Sequential([\n",
        "    layers.Dense(16, activation=\"relu\"),\n",
        "    layers.Dense(1, activation=\"sigmoid\")\n",
        "])\n",
        "model_2.compile(optimizer=\"rmsprop\",\n",
        "              loss=\"binary_crossentropy\",\n",
        "              metrics=[\"accuracy\"])\n",
        "model_2.fit(partial_x_train, partial_y_train, epochs=4, batch_size=512, validation_data=(x_val, y_val))\n",
        "results = model_2.evaluate(x_test, y_test)\n",
        "results"
      ],
      "metadata": {
        "colab": {
          "base_uri": "https://localhost:8080/"
        },
        "id": "IWngIJHtoy5I",
        "outputId": "b84238ad-75d9-4766-869d-19ae0736b34d"
      },
      "execution_count": 38,
      "outputs": [
        {
          "output_type": "stream",
          "name": "stdout",
          "text": [
            "Epoch 1/4\n",
            "30/30 [==============================] - 3s 92ms/step - loss: 0.5031 - accuracy: 0.7867 - val_loss: 0.3844 - val_accuracy: 0.8691\n",
            "Epoch 2/4\n",
            "30/30 [==============================] - 1s 37ms/step - loss: 0.3186 - accuracy: 0.8987 - val_loss: 0.3169 - val_accuracy: 0.8864\n",
            "Epoch 3/4\n",
            "30/30 [==============================] - 1s 37ms/step - loss: 0.2506 - accuracy: 0.9207 - val_loss: 0.2947 - val_accuracy: 0.8851\n",
            "Epoch 4/4\n",
            "30/30 [==============================] - 2s 57ms/step - loss: 0.2104 - accuracy: 0.9345 - val_loss: 0.2841 - val_accuracy: 0.8892\n",
            "782/782 [==============================] - 2s 2ms/step - loss: 0.2967 - accuracy: 0.8816\n"
          ]
        },
        {
          "output_type": "execute_result",
          "data": {
            "text/plain": [
              "[0.296701043844223, 0.881600022315979]"
            ]
          },
          "metadata": {},
          "execution_count": 38
        }
      ]
    },
    {
      "cell_type": "markdown",
      "source": [
        "## Results"
      ],
      "metadata": {
        "id": "Z1qRMpdhppMz"
      }
    },
    {
      "cell_type": "markdown",
      "source": [
        "Using only one hidden layer increases the validation accuracy to 88.88% and the test accuracy to 88.26%."
      ],
      "metadata": {
        "id": "2mTlwVD4prtc"
      }
    },
    {
      "cell_type": "markdown",
      "source": [
        "Run data (accuracies):\n",
        "\n",
        "\n",
        "1.   Val: .8868; Test: .8786\n",
        "2.   Val: .8894; Test: .8839\n",
        "3.   Val: .8894; Test: .8836\n",
        "4.   Val: .8890; Test: .8839\n",
        "5.   Val: .8894; Test: .8832\n",
        "\n",
        "Average - Val: .8888; Test: .8826\n",
        "\n"
      ],
      "metadata": {
        "id": "2AK-jJ7ZL44D"
      }
    },
    {
      "cell_type": "markdown",
      "source": [
        "# Using three hidden layers instead of two hidden layers"
      ],
      "metadata": {
        "id": "FPEb0kfRrwNd"
      }
    },
    {
      "cell_type": "markdown",
      "source": [
        "## Retraining the model"
      ],
      "metadata": {
        "id": "bJRACtF_r3Od"
      }
    },
    {
      "cell_type": "code",
      "source": [
        "model_3 = keras.Sequential([\n",
        "    layers.Dense(16, activation=\"relu\"),\n",
        "    layers.Dense(16, activation=\"relu\"),\n",
        "    layers.Dense(16, activation=\"relu\"),\n",
        "    layers.Dense(1, activation=\"sigmoid\")\n",
        "])\n",
        "model_3.compile(optimizer=\"rmsprop\",\n",
        "              loss=\"binary_crossentropy\",\n",
        "              metrics=[\"accuracy\"])\n",
        "model_3.fit(partial_x_train, partial_y_train, epochs=4, batch_size=512, validation_data=(x_val, y_val))\n",
        "results = model_3.evaluate(x_test, y_test)\n",
        "results"
      ],
      "metadata": {
        "colab": {
          "base_uri": "https://localhost:8080/"
        },
        "id": "_zLmh--Xr6YX",
        "outputId": "931a4745-9984-47b9-9980-028785c5cdc0"
      },
      "execution_count": 39,
      "outputs": [
        {
          "output_type": "stream",
          "name": "stdout",
          "text": [
            "Epoch 1/4\n",
            "30/30 [==============================] - 4s 95ms/step - loss: 0.5782 - accuracy: 0.7467 - val_loss: 0.4440 - val_accuracy: 0.8641\n",
            "Epoch 2/4\n",
            "30/30 [==============================] - 2s 53ms/step - loss: 0.3620 - accuracy: 0.8867 - val_loss: 0.3314 - val_accuracy: 0.8836\n",
            "Epoch 3/4\n",
            "30/30 [==============================] - 2s 61ms/step - loss: 0.2637 - accuracy: 0.9143 - val_loss: 0.2914 - val_accuracy: 0.8930\n",
            "Epoch 4/4\n",
            "30/30 [==============================] - 2s 61ms/step - loss: 0.2110 - accuracy: 0.9295 - val_loss: 0.3041 - val_accuracy: 0.8764\n",
            "782/782 [==============================] - 2s 2ms/step - loss: 0.3239 - accuracy: 0.8666\n"
          ]
        },
        {
          "output_type": "execute_result",
          "data": {
            "text/plain": [
              "[0.3238890767097473, 0.866599977016449]"
            ]
          },
          "metadata": {},
          "execution_count": 39
        }
      ]
    },
    {
      "cell_type": "markdown",
      "source": [
        "## Results"
      ],
      "metadata": {
        "id": "DvPo7ynhssbs"
      }
    },
    {
      "cell_type": "markdown",
      "source": [
        "Using three hidden layers slightly increased the validation accuracy to 88.52% and the test accuracy to 87.94%."
      ],
      "metadata": {
        "id": "EXzt2lausuUR"
      }
    },
    {
      "cell_type": "markdown",
      "source": [
        "Run data (accuracies):\n",
        "\n",
        "\n",
        "1.   Val: .8890; Test: .8827\n",
        "2.   Val: .8900; Test: .8840\n",
        "3.   Val: .8879; Test: .8822\n",
        "4.   Val: .8735; Test: .8668\n",
        "5.   Val: .8857; Test: .8813\n",
        "\n",
        "Average - Val: .8852; Test: .8794\n",
        "\n"
      ],
      "metadata": {
        "id": "b7kYQA3VSmKS"
      }
    },
    {
      "cell_type": "markdown",
      "source": [
        "## Using one hidden layer produced the best validation and test performance"
      ],
      "metadata": {
        "id": "Swq1yg7IVy02"
      }
    },
    {
      "cell_type": "markdown",
      "source": [
        "# Increasing hidden units to 32 instead of 16"
      ],
      "metadata": {
        "id": "XrdRaNXKv0po"
      }
    },
    {
      "cell_type": "markdown",
      "source": [
        "## Retraining the model"
      ],
      "metadata": {
        "id": "FMbg2vdZv9Pg"
      }
    },
    {
      "cell_type": "code",
      "source": [
        "model_4 = keras.Sequential([\n",
        "    layers.Dense(32, activation=\"relu\"),\n",
        "    layers.Dense(32, activation=\"relu\"),\n",
        "    layers.Dense(1, activation=\"sigmoid\")\n",
        "])\n",
        "model_4.compile(optimizer=\"rmsprop\",\n",
        "              loss=\"binary_crossentropy\",\n",
        "              metrics=[\"accuracy\"])\n",
        "model_4.fit(partial_x_train, partial_y_train, epochs=4, batch_size=512, validation_data=(x_val, y_val))\n",
        "results = model_4.evaluate(x_test, y_test)\n",
        "results"
      ],
      "metadata": {
        "colab": {
          "base_uri": "https://localhost:8080/"
        },
        "id": "sV-RvOviv_I3",
        "outputId": "d6325e21-8012-4103-90d2-caf110ad69ed"
      },
      "execution_count": 40,
      "outputs": [
        {
          "output_type": "stream",
          "name": "stdout",
          "text": [
            "Epoch 1/4\n",
            "30/30 [==============================] - 3s 88ms/step - loss: 0.5084 - accuracy: 0.7716 - val_loss: 0.3613 - val_accuracy: 0.8701\n",
            "Epoch 2/4\n",
            "30/30 [==============================] - 2s 56ms/step - loss: 0.2980 - accuracy: 0.8943 - val_loss: 0.3023 - val_accuracy: 0.8801\n",
            "Epoch 3/4\n",
            "30/30 [==============================] - 2s 70ms/step - loss: 0.2300 - accuracy: 0.9183 - val_loss: 0.2752 - val_accuracy: 0.8894\n",
            "Epoch 4/4\n",
            "30/30 [==============================] - 2s 55ms/step - loss: 0.1786 - accuracy: 0.9373 - val_loss: 0.2818 - val_accuracy: 0.8862\n",
            "782/782 [==============================] - 2s 3ms/step - loss: 0.2998 - accuracy: 0.8784\n"
          ]
        },
        {
          "output_type": "execute_result",
          "data": {
            "text/plain": [
              "[0.29975032806396484, 0.8784000277519226]"
            ]
          },
          "metadata": {},
          "execution_count": 40
        }
      ]
    },
    {
      "cell_type": "markdown",
      "source": [
        "## Results"
      ],
      "metadata": {
        "id": "V26Qmygf0tk2"
      }
    },
    {
      "cell_type": "markdown",
      "source": [
        "Using 32 hidden units in hidden layers slightly decreased the validation accuracy to 88.09% and the test accuracy to 87.31%. Since performance decreased for both the validation and test sets, I won't use 32 hidden units moving forward.\n",
        "\n",
        "\n"
      ],
      "metadata": {
        "id": "Lk9Xapta0xKq"
      }
    },
    {
      "cell_type": "markdown",
      "source": [
        "Run data (accuracies):\n",
        "\n",
        "\n",
        "1.   Val: .8815; Test: .8712\n",
        "2.   Val: .8880; Test: .8822\n",
        "3.   Val: .8607; Test: .8486\n",
        "4.   Val: .8869; Test: .8810\n",
        "5.   Val: .8874; Test: .8825\n",
        "\n",
        "Average - Val: .8809; Test: .8731\n",
        "\n"
      ],
      "metadata": {
        "id": "HOFPLtvzOpSY"
      }
    },
    {
      "cell_type": "markdown",
      "source": [
        "# Increasing hidden units to 64 instead of 16"
      ],
      "metadata": {
        "id": "lXwDxuiV3fjp"
      }
    },
    {
      "cell_type": "markdown",
      "source": [
        "## Retraining the model"
      ],
      "metadata": {
        "id": "zKqKJmYY3lp5"
      }
    },
    {
      "cell_type": "code",
      "source": [
        "model_5 = keras.Sequential([\n",
        "    layers.Dense(64, activation=\"relu\"),\n",
        "    layers.Dense(64, activation=\"relu\"),\n",
        "    layers.Dense(1, activation=\"sigmoid\")\n",
        "])\n",
        "model_5.compile(optimizer=\"rmsprop\",\n",
        "              loss=\"binary_crossentropy\",\n",
        "              metrics=[\"accuracy\"])\n",
        "model_5.fit(partial_x_train, partial_y_train, epochs=4, batch_size=512, validation_data=(x_val, y_val))\n",
        "results = model_5.evaluate(x_test, y_test)\n",
        "results"
      ],
      "metadata": {
        "id": "xCxpXQwm3nMh",
        "colab": {
          "base_uri": "https://localhost:8080/"
        },
        "outputId": "629cfd30-01ac-40bf-9ead-f2b8c173441c"
      },
      "execution_count": 7,
      "outputs": [
        {
          "output_type": "stream",
          "name": "stdout",
          "text": [
            "Epoch 1/4\n",
            "30/30 [==============================] - 5s 101ms/step - loss: 0.4997 - accuracy: 0.7634 - val_loss: 0.4730 - val_accuracy: 0.7788\n",
            "Epoch 2/4\n",
            "30/30 [==============================] - 2s 68ms/step - loss: 0.3056 - accuracy: 0.8817 - val_loss: 0.3339 - val_accuracy: 0.8607\n",
            "Epoch 3/4\n",
            "30/30 [==============================] - 2s 66ms/step - loss: 0.2223 - accuracy: 0.9201 - val_loss: 0.2853 - val_accuracy: 0.8829\n",
            "Epoch 4/4\n",
            "30/30 [==============================] - 2s 65ms/step - loss: 0.1804 - accuracy: 0.9328 - val_loss: 0.3166 - val_accuracy: 0.8730\n",
            "782/782 [==============================] - 3s 3ms/step - loss: 0.3405 - accuracy: 0.8627\n"
          ]
        },
        {
          "output_type": "execute_result",
          "data": {
            "text/plain": [
              "[0.3404843211174011, 0.8627200126647949]"
            ]
          },
          "metadata": {},
          "execution_count": 7
        }
      ]
    },
    {
      "cell_type": "markdown",
      "source": [
        "## Results"
      ],
      "metadata": {
        "id": "n6twqX5V3zyI"
      }
    },
    {
      "cell_type": "markdown",
      "source": [
        "Using 64 hidden units in hidden layers decreased the validation accuracy notably to 87.13% and the test accuracy to 86.06%. It appears that adding hidden units decreases model performance when using 4 epochs. Given this information, I won't use 64 hidden units moving forward."
      ],
      "metadata": {
        "id": "iyFkddnu31rO"
      }
    },
    {
      "cell_type": "markdown",
      "source": [
        "Run data:\n",
        "\n",
        "\n",
        "1.   Val: .8646; Test: .8535\n",
        "2.   Val: .8882; Test: .8830\n",
        "3.   Val: .8613; Test: .8478\n",
        "4.   Val: .8637; Test: .8501\n",
        "5.   Val: .8785; Test: .8686\n",
        "\n",
        "Average - Val: .8713; Test: .8606\n",
        "\n"
      ],
      "metadata": {
        "id": "6I4-xTK2XMv7"
      }
    },
    {
      "cell_type": "markdown",
      "source": [
        "## Using 16 hidden units in hidden layers produced the best validation and test performance"
      ],
      "metadata": {
        "id": "9_VKAwJ4bN3L"
      }
    },
    {
      "cell_type": "markdown",
      "source": [
        "# Using MSE loss function instead of binary_crossentropy"
      ],
      "metadata": {
        "id": "MYpdV-i934pZ"
      }
    },
    {
      "cell_type": "markdown",
      "source": [
        "## Retraining the model"
      ],
      "metadata": {
        "id": "9-GcTiuk4CSB"
      }
    },
    {
      "cell_type": "code",
      "source": [
        "model_6 = keras.Sequential([\n",
        "    layers.Dense(16, activation=\"relu\"),\n",
        "    layers.Dense(16, activation=\"relu\"),\n",
        "    layers.Dense(1, activation=\"sigmoid\")\n",
        "])\n",
        "model_6.compile(optimizer=\"rmsprop\",\n",
        "              loss=\"mse\",\n",
        "              metrics=[\"accuracy\"])\n",
        "model_6.fit(partial_x_train, partial_y_train, epochs=4, batch_size=512, validation_data=(x_val, y_val))\n",
        "results = model_6.evaluate(x_test, y_test)\n",
        "results"
      ],
      "metadata": {
        "id": "C5uOlJvQ4Evc",
        "colab": {
          "base_uri": "https://localhost:8080/"
        },
        "outputId": "0145eea1-0a05-44be-9f5e-3dfaea499e15"
      },
      "execution_count": 8,
      "outputs": [
        {
          "output_type": "stream",
          "name": "stdout",
          "text": [
            "Epoch 1/4\n",
            "30/30 [==============================] - 3s 77ms/step - loss: 0.1806 - accuracy: 0.7602 - val_loss: 0.1396 - val_accuracy: 0.8245\n",
            "Epoch 2/4\n",
            "30/30 [==============================] - 1s 37ms/step - loss: 0.1027 - accuracy: 0.8905 - val_loss: 0.0985 - val_accuracy: 0.8845\n",
            "Epoch 3/4\n",
            "30/30 [==============================] - 1s 37ms/step - loss: 0.0773 - accuracy: 0.9153 - val_loss: 0.0967 - val_accuracy: 0.8717\n",
            "Epoch 4/4\n",
            "30/30 [==============================] - 1s 37ms/step - loss: 0.0639 - accuracy: 0.9285 - val_loss: 0.0849 - val_accuracy: 0.8879\n",
            "782/782 [==============================] - 3s 3ms/step - loss: 0.0889 - accuracy: 0.8854\n"
          ]
        },
        {
          "output_type": "execute_result",
          "data": {
            "text/plain": [
              "[0.08893664926290512, 0.8853600025177002]"
            ]
          },
          "metadata": {},
          "execution_count": 8
        }
      ]
    },
    {
      "cell_type": "markdown",
      "source": [
        "## Results"
      ],
      "metadata": {
        "id": "l_Y1blFO4j-7"
      }
    },
    {
      "cell_type": "markdown",
      "source": [
        "Using the mean squared error (mse) loss function kept the validation accuracy around 88.33% and slightly increased the test accuracy to 87.88%. Given this information, I may consider using the mse loss function moving forward."
      ],
      "metadata": {
        "id": "Vu0Db7g44lkh"
      }
    },
    {
      "cell_type": "markdown",
      "source": [
        "Run data (accuracies):\n",
        "\n",
        "\n",
        "1.   Val: .8727; Test: .8726\n",
        "2.   Val: .8853; Test: .8809\n",
        "3.   Val: .8840; Test: .8766\n",
        "4.   Val: .8861; Test: .8812\n",
        "5.   Val: .8883; Test: .8828\n",
        "\n",
        "Average - Val: .8833; Test: .8788\n",
        "\n"
      ],
      "metadata": {
        "id": "dBX0Kl_RYEUp"
      }
    },
    {
      "cell_type": "markdown",
      "source": [
        "# Using tanh activation instead of relu"
      ],
      "metadata": {
        "id": "mwH2Qzo44nZG"
      }
    },
    {
      "cell_type": "markdown",
      "source": [
        "## Retraining the model"
      ],
      "metadata": {
        "id": "-IEE0q4k4tSB"
      }
    },
    {
      "cell_type": "code",
      "source": [
        "model_7 = keras.Sequential([\n",
        "    layers.Dense(16, activation=\"tanh\"),\n",
        "    layers.Dense(16, activation=\"tanh\"),\n",
        "    layers.Dense(1, activation=\"sigmoid\")\n",
        "])\n",
        "model_7.compile(optimizer=\"rmsprop\",\n",
        "              loss=\"binary_crossentropy\",\n",
        "              metrics=[\"accuracy\"])\n",
        "model_7.fit(partial_x_train, partial_y_train, epochs=4, batch_size=512, validation_data=(x_val, y_val))\n",
        "results = model_7.evaluate(x_test, y_test)\n",
        "results"
      ],
      "metadata": {
        "id": "gQp3vt3_452I",
        "colab": {
          "base_uri": "https://localhost:8080/"
        },
        "outputId": "1026428c-4c75-42f7-ee6c-31849dc80454"
      },
      "execution_count": 9,
      "outputs": [
        {
          "output_type": "stream",
          "name": "stdout",
          "text": [
            "Epoch 1/4\n",
            "30/30 [==============================] - 4s 86ms/step - loss: 0.4927 - accuracy: 0.7977 - val_loss: 0.3712 - val_accuracy: 0.8659\n",
            "Epoch 2/4\n",
            "30/30 [==============================] - 1s 36ms/step - loss: 0.2958 - accuracy: 0.9011 - val_loss: 0.2963 - val_accuracy: 0.8835\n",
            "Epoch 3/4\n",
            "30/30 [==============================] - 1s 35ms/step - loss: 0.2177 - accuracy: 0.9260 - val_loss: 0.2718 - val_accuracy: 0.8888\n",
            "Epoch 4/4\n",
            "30/30 [==============================] - 1s 36ms/step - loss: 0.1701 - accuracy: 0.9428 - val_loss: 0.2787 - val_accuracy: 0.8852\n",
            "782/782 [==============================] - 2s 3ms/step - loss: 0.2942 - accuracy: 0.8794\n"
          ]
        },
        {
          "output_type": "execute_result",
          "data": {
            "text/plain": [
              "[0.2941983938217163, 0.8794400095939636]"
            ]
          },
          "metadata": {},
          "execution_count": 9
        }
      ]
    },
    {
      "cell_type": "markdown",
      "source": [
        "## Results"
      ],
      "metadata": {
        "id": "74TC9AoS5IQ4"
      }
    },
    {
      "cell_type": "markdown",
      "source": [
        "Using the tanh activation slightly increased the validation accuracy to 88.48% and test accuracy to 87.78%. Given this information, I may consider using tanh activation moving forward."
      ],
      "metadata": {
        "id": "ujkhDCti5Kw4"
      }
    },
    {
      "cell_type": "markdown",
      "source": [
        "Run data (accuracies):\n",
        "\n",
        "\n",
        "1.   Val: .8841; Test: .8768\n",
        "2.   Val: .8850; Test: .8777\n",
        "3.   Val: .8890; Test: .8822\n",
        "4.   Val: .8846; Test: .8784\n",
        "5.   Val: .8812; Test: .8741\n",
        "\n",
        "Average - Val: .8848; Test: .8778\n",
        "\n"
      ],
      "metadata": {
        "id": "hfx3R4MBdebV"
      }
    },
    {
      "cell_type": "markdown",
      "source": [
        "# Attempt at optimizing the model based on prior results"
      ],
      "metadata": {
        "id": "p1HHZezaea9H"
      }
    },
    {
      "cell_type": "markdown",
      "source": [
        "# Using one hidden layer + 16 hidden units + mse loss function + tanh activation to explore model performance"
      ],
      "metadata": {
        "id": "EIo5F7d2ev0E"
      }
    },
    {
      "cell_type": "markdown",
      "source": [
        "## Retraining the model"
      ],
      "metadata": {
        "id": "G70Fq9OKgxUW"
      }
    },
    {
      "cell_type": "code",
      "source": [
        "model_8 = keras.Sequential([\n",
        "    layers.Dense(16, activation=\"tanh\"),\n",
        "    layers.Dense(1, activation=\"sigmoid\")\n",
        "])\n",
        "model_8.compile(optimizer=\"rmsprop\",\n",
        "              loss=\"mse\",\n",
        "              metrics=[\"accuracy\"])\n",
        "model_8.fit(partial_x_train, partial_y_train, epochs=4, batch_size=512, validation_data=(x_val, y_val))\n",
        "results = model_8.evaluate(x_test, y_test)\n",
        "results"
      ],
      "metadata": {
        "colab": {
          "base_uri": "https://localhost:8080/"
        },
        "id": "LLynAEBbgzia",
        "outputId": "8b185b01-13e1-429a-f715-588fc3ec1573"
      },
      "execution_count": 7,
      "outputs": [
        {
          "output_type": "stream",
          "name": "stdout",
          "text": [
            "Epoch 1/4\n",
            "30/30 [==============================] - 3s 78ms/step - loss: 0.1771 - accuracy: 0.7964 - val_loss: 0.1352 - val_accuracy: 0.8638\n",
            "Epoch 2/4\n",
            "30/30 [==============================] - 1s 38ms/step - loss: 0.1136 - accuracy: 0.8839 - val_loss: 0.1104 - val_accuracy: 0.8719\n",
            "Epoch 3/4\n",
            "30/30 [==============================] - 1s 38ms/step - loss: 0.0893 - accuracy: 0.9061 - val_loss: 0.0966 - val_accuracy: 0.8864\n",
            "Epoch 4/4\n",
            "30/30 [==============================] - 1s 37ms/step - loss: 0.0752 - accuracy: 0.9205 - val_loss: 0.0919 - val_accuracy: 0.8839\n",
            "782/782 [==============================] - 2s 2ms/step - loss: 0.0947 - accuracy: 0.8806\n"
          ]
        },
        {
          "output_type": "execute_result",
          "data": {
            "text/plain": [
              "[0.0946979969739914, 0.8805999755859375]"
            ]
          },
          "metadata": {},
          "execution_count": 7
        }
      ]
    },
    {
      "cell_type": "markdown",
      "source": [
        "## Results"
      ],
      "metadata": {
        "id": "h_Sr77v2hUEI"
      }
    },
    {
      "cell_type": "markdown",
      "source": [
        "I developed this model by using the number of hidden layers, number of hidden units, loss function, and activation that appeared to improve model performance in the earlier steps above. This model performed comparably to the model with one hidden layer, 16 hidden units, binary_crossentropy loss function, and relu activation (model 2) with a 88.67% validation accuracy and 88.31% test accuracy. The validation accuracy is slightly lower in this model, but the test accuracy is slightly higher. Additionally, another observation is that using the mse loss function vs. binary_crossentropy appears to decrease validation loss across all epochs."
      ],
      "metadata": {
        "id": "22lOYcBmhWFD"
      }
    },
    {
      "cell_type": "markdown",
      "source": [
        "Run data (accuracies):\n",
        "\n",
        "1.   Val: .8878; Test: .8852\n",
        "2.   Val: .8871; Test: .8827\n",
        "3.   Val: .8893; Test: .8851\n",
        "4.   Val: .8880; Test: .8830\n",
        "5.   Val: .8812; Test: .8796\n",
        "\n",
        "Average - Val: .8867; Test: .8831\n",
        "\n"
      ],
      "metadata": {
        "id": "5_kNxw3ChXFu"
      }
    },
    {
      "cell_type": "markdown",
      "source": [
        "# Using one hidden layer + 16 hidden units + binary_crossentropy loss function + tanh activation to explore model performance"
      ],
      "metadata": {
        "id": "a0hI1QeSdUzy"
      }
    },
    {
      "cell_type": "markdown",
      "source": [
        "## Retraining the model"
      ],
      "metadata": {
        "id": "QhAnGUpodesw"
      }
    },
    {
      "cell_type": "code",
      "source": [
        "model_9 = keras.Sequential([\n",
        "    layers.Dense(16, activation=\"tanh\"),\n",
        "    layers.Dense(1, activation=\"sigmoid\")\n",
        "])\n",
        "model_9.compile(optimizer=\"rmsprop\",\n",
        "              loss=\"binary_crossentropy\",\n",
        "              metrics=[\"accuracy\"])\n",
        "model_9.fit(partial_x_train, partial_y_train, epochs=4, batch_size=512, validation_data=(x_val, y_val))\n",
        "results = model_9.evaluate(x_test, y_test)\n",
        "results"
      ],
      "metadata": {
        "colab": {
          "base_uri": "https://localhost:8080/"
        },
        "id": "Yn0pq1h7dnHU",
        "outputId": "237d37a6-7320-4ed9-fc54-897f132d01ba"
      },
      "execution_count": 8,
      "outputs": [
        {
          "output_type": "stream",
          "name": "stdout",
          "text": [
            "Epoch 1/4\n",
            "30/30 [==============================] - 3s 77ms/step - loss: 0.5000 - accuracy: 0.7939 - val_loss: 0.3920 - val_accuracy: 0.8684\n",
            "Epoch 2/4\n",
            "30/30 [==============================] - 1s 39ms/step - loss: 0.3275 - accuracy: 0.8945 - val_loss: 0.3237 - val_accuracy: 0.8824\n",
            "Epoch 3/4\n",
            "30/30 [==============================] - 2s 61ms/step - loss: 0.2577 - accuracy: 0.9193 - val_loss: 0.2997 - val_accuracy: 0.8812\n",
            "Epoch 4/4\n",
            "30/30 [==============================] - 1s 47ms/step - loss: 0.2152 - accuracy: 0.9333 - val_loss: 0.2891 - val_accuracy: 0.8841\n",
            "782/782 [==============================] - 2s 3ms/step - loss: 0.2998 - accuracy: 0.8808\n"
          ]
        },
        {
          "output_type": "execute_result",
          "data": {
            "text/plain": [
              "[0.29978853464126587, 0.8808000087738037]"
            ]
          },
          "metadata": {},
          "execution_count": 8
        }
      ]
    },
    {
      "cell_type": "markdown",
      "source": [
        "## Results"
      ],
      "metadata": {
        "id": "g4D_HSudeMvx"
      }
    },
    {
      "cell_type": "markdown",
      "source": [
        "I developed this model by adjusting model 8 to utilize the binary_crossentropy loss function since binary_crossentropy is generally most applicable to this type of classification problem. This model overall performed the best with 88.86% validation accuracy and 88.30% test accuracy. Although model 2 had slightly higher validation accuracy (88.88%), this model had higher test accuracy while still having a high validation accuracy."
      ],
      "metadata": {
        "id": "xzKhPGGPeOo8"
      }
    },
    {
      "cell_type": "markdown",
      "source": [
        "Run data (accuracies):\n",
        "\n",
        "\n",
        "1.   Val: .8879; Test: .8825\n",
        "2.   Val: .8892; Test: .8848\n",
        "3.   Val: .8917; Test: .8841\n",
        "4.   Val: .8881; Test: .8831\n",
        "5.   Val: .8860; Test: .8806\n",
        "\n",
        "Average - Val: .8886; Test: .8830\n",
        "\n"
      ],
      "metadata": {
        "id": "YkZJQPgKeRNJ"
      }
    },
    {
      "cell_type": "markdown",
      "source": [
        "# Models 2, 8, and 9 had the highest validation and test accuracies. Model 9 overall performed the best. These models all assumed 4 epochs - I'm going to increase the number of epochs in model 9 to twenty just to verify if epoch = 4 is truly the best."
      ],
      "metadata": {
        "id": "kFfQOjVUjIln"
      }
    },
    {
      "cell_type": "markdown",
      "source": [
        "## Rerunning model 9 with 20 epochs  to determine best epoch value"
      ],
      "metadata": {
        "id": "q0qkk8bjjo0F"
      }
    },
    {
      "cell_type": "code",
      "source": [
        "model_10 = keras.Sequential([\n",
        "    layers.Dense(16, activation=\"tanh\"),\n",
        "    layers.Dense(1, activation=\"sigmoid\")\n",
        "])\n",
        "model_10.compile(optimizer=\"rmsprop\",\n",
        "              loss=\"binary_crossentropy\",\n",
        "              metrics=[\"accuracy\"])\n",
        "model_10.fit(partial_x_train, partial_y_train, epochs=20, batch_size=512, validation_data=(x_val, y_val))\n",
        "results = model_10.evaluate(x_test, y_test)\n",
        "results"
      ],
      "metadata": {
        "colab": {
          "base_uri": "https://localhost:8080/"
        },
        "id": "o3mtyfNLkdLD",
        "outputId": "89323fac-f63a-4696-8743-381a844cc82e"
      },
      "execution_count": 9,
      "outputs": [
        {
          "output_type": "stream",
          "name": "stdout",
          "text": [
            "Epoch 1/20\n",
            "30/30 [==============================] - 3s 91ms/step - loss: 0.5243 - accuracy: 0.7901 - val_loss: 0.4231 - val_accuracy: 0.8585\n",
            "Epoch 2/20\n",
            "30/30 [==============================] - 1s 40ms/step - loss: 0.3533 - accuracy: 0.8909 - val_loss: 0.3441 - val_accuracy: 0.8760\n",
            "Epoch 3/20\n",
            "30/30 [==============================] - 1s 37ms/step - loss: 0.2808 - accuracy: 0.9097 - val_loss: 0.3051 - val_accuracy: 0.8843\n",
            "Epoch 4/20\n",
            "30/30 [==============================] - 1s 38ms/step - loss: 0.2352 - accuracy: 0.9261 - val_loss: 0.3011 - val_accuracy: 0.8788\n",
            "Epoch 5/20\n",
            "30/30 [==============================] - 1s 38ms/step - loss: 0.2041 - accuracy: 0.9356 - val_loss: 0.2767 - val_accuracy: 0.8878\n",
            "Epoch 6/20\n",
            "30/30 [==============================] - 1s 37ms/step - loss: 0.1813 - accuracy: 0.9437 - val_loss: 0.2773 - val_accuracy: 0.8883\n",
            "Epoch 7/20\n",
            "30/30 [==============================] - 1s 36ms/step - loss: 0.1601 - accuracy: 0.9502 - val_loss: 0.2877 - val_accuracy: 0.8836\n",
            "Epoch 8/20\n",
            "30/30 [==============================] - 1s 39ms/step - loss: 0.1465 - accuracy: 0.9533 - val_loss: 0.2787 - val_accuracy: 0.8836\n",
            "Epoch 9/20\n",
            "30/30 [==============================] - 1s 48ms/step - loss: 0.1300 - accuracy: 0.9612 - val_loss: 0.2809 - val_accuracy: 0.8848\n",
            "Epoch 10/20\n",
            "30/30 [==============================] - 2s 63ms/step - loss: 0.1193 - accuracy: 0.9653 - val_loss: 0.2914 - val_accuracy: 0.8840\n",
            "Epoch 11/20\n",
            "30/30 [==============================] - 1s 50ms/step - loss: 0.1072 - accuracy: 0.9704 - val_loss: 0.2952 - val_accuracy: 0.8829\n",
            "Epoch 12/20\n",
            "30/30 [==============================] - 1s 36ms/step - loss: 0.0973 - accuracy: 0.9730 - val_loss: 0.3061 - val_accuracy: 0.8815\n",
            "Epoch 13/20\n",
            "30/30 [==============================] - 1s 36ms/step - loss: 0.0880 - accuracy: 0.9768 - val_loss: 0.3150 - val_accuracy: 0.8800\n",
            "Epoch 14/20\n",
            "30/30 [==============================] - 1s 37ms/step - loss: 0.0796 - accuracy: 0.9799 - val_loss: 0.3265 - val_accuracy: 0.8797\n",
            "Epoch 15/20\n",
            "30/30 [==============================] - 1s 36ms/step - loss: 0.0730 - accuracy: 0.9825 - val_loss: 0.3412 - val_accuracy: 0.8788\n",
            "Epoch 16/20\n",
            "30/30 [==============================] - 1s 36ms/step - loss: 0.0648 - accuracy: 0.9853 - val_loss: 0.3588 - val_accuracy: 0.8716\n",
            "Epoch 17/20\n",
            "30/30 [==============================] - 1s 39ms/step - loss: 0.0593 - accuracy: 0.9872 - val_loss: 0.3657 - val_accuracy: 0.8760\n",
            "Epoch 18/20\n",
            "30/30 [==============================] - 1s 37ms/step - loss: 0.0528 - accuracy: 0.9901 - val_loss: 0.3759 - val_accuracy: 0.8759\n",
            "Epoch 19/20\n",
            "30/30 [==============================] - 1s 40ms/step - loss: 0.0484 - accuracy: 0.9909 - val_loss: 0.3887 - val_accuracy: 0.8745\n",
            "Epoch 20/20\n",
            "30/30 [==============================] - 2s 53ms/step - loss: 0.0432 - accuracy: 0.9928 - val_loss: 0.4093 - val_accuracy: 0.8736\n",
            "782/782 [==============================] - 2s 2ms/step - loss: 0.4359 - accuracy: 0.8642\n"
          ]
        },
        {
          "output_type": "execute_result",
          "data": {
            "text/plain": [
              "[0.4358838200569153, 0.8642399907112122]"
            ]
          },
          "metadata": {},
          "execution_count": 9
        }
      ]
    },
    {
      "cell_type": "markdown",
      "source": [
        "Based on the output above, epoch = 5 appears to be the best value because it produces the lowest validation loss and highest validation accuracy. I'm going to observe the validation and test accuracies across 5 runs using epoch = 5 to confirm if the accuracies are higher using epoch = 5 vs. epoch = 4."
      ],
      "metadata": {
        "id": "rsdxfX4u0IKg"
      }
    },
    {
      "cell_type": "markdown",
      "source": [
        "## Rerunning model 9 with the \"best\" epoch value (epoch = 5)"
      ],
      "metadata": {
        "id": "42hEEAwo5XkA"
      }
    },
    {
      "cell_type": "code",
      "source": [
        "model_11 = keras.Sequential([\n",
        "    layers.Dense(16, activation=\"tanh\"),\n",
        "    layers.Dense(1, activation=\"sigmoid\")\n",
        "])\n",
        "model_11.compile(optimizer=\"rmsprop\",\n",
        "              loss=\"binary_crossentropy\",\n",
        "              metrics=[\"accuracy\"])\n",
        "model_11.fit(partial_x_train, partial_y_train, epochs=5, batch_size=512, validation_data=(x_val, y_val))\n",
        "results = model_11.evaluate(x_test, y_test)\n",
        "results"
      ],
      "metadata": {
        "colab": {
          "base_uri": "https://localhost:8080/"
        },
        "id": "OkFTKowbywYa",
        "outputId": "0f02348c-7cbe-4da8-bdad-3c782522a04e"
      },
      "execution_count": 7,
      "outputs": [
        {
          "output_type": "stream",
          "name": "stdout",
          "text": [
            "Epoch 1/5\n",
            "30/30 [==============================] - 3s 77ms/step - loss: 0.5299 - accuracy: 0.7983 - val_loss: 0.4406 - val_accuracy: 0.8498\n",
            "Epoch 2/5\n",
            "30/30 [==============================] - 1s 36ms/step - loss: 0.3738 - accuracy: 0.8857 - val_loss: 0.3582 - val_accuracy: 0.8733\n",
            "Epoch 3/5\n",
            "30/30 [==============================] - 1s 36ms/step - loss: 0.3020 - accuracy: 0.9052 - val_loss: 0.3171 - val_accuracy: 0.8836\n",
            "Epoch 4/5\n",
            "30/30 [==============================] - 1s 37ms/step - loss: 0.2549 - accuracy: 0.9167 - val_loss: 0.3048 - val_accuracy: 0.8795\n",
            "Epoch 5/5\n",
            "30/30 [==============================] - 2s 56ms/step - loss: 0.2202 - accuracy: 0.9309 - val_loss: 0.2812 - val_accuracy: 0.8871\n",
            "782/782 [==============================] - 2s 2ms/step - loss: 0.2921 - accuracy: 0.8831\n"
          ]
        },
        {
          "output_type": "execute_result",
          "data": {
            "text/plain": [
              "[0.2920955717563629, 0.883080005645752]"
            ]
          },
          "metadata": {},
          "execution_count": 7
        }
      ]
    },
    {
      "cell_type": "markdown",
      "source": [
        "After running the model several times, adjusting the epoch value to 5 actually decreased the validation accuracy to 88.69% and the test accuracy to 87.99%. Model 9 (which used epoch = 4) still appears to be the best model generated."
      ],
      "metadata": {
        "id": "tSd6Ds4L05cM"
      }
    },
    {
      "cell_type": "markdown",
      "source": [
        "Run data (accuracies):\n",
        "\n",
        "\n",
        "1.   Val: .8839; Test: .8774\n",
        "2.   Val: .8889; Test: .8818\n",
        "3.   Val: .8838; Test: .8718\n",
        "4.   Val: .8902; Test: .8842\n",
        "5.   Val: .8878; Test: .8844\n",
        "\n",
        "Average - Val: .8869; Test: .8799\n",
        "\n"
      ],
      "metadata": {
        "id": "CcpWelmg6juW"
      }
    },
    {
      "cell_type": "markdown",
      "source": [
        "# Conclusion"
      ],
      "metadata": {
        "id": "y-COWuDo-MQY"
      }
    },
    {
      "cell_type": "code",
      "source": [
        "import pandas"
      ],
      "metadata": {
        "id": "2qOYKfqr-Ouh"
      },
      "execution_count": 8,
      "outputs": []
    },
    {
      "cell_type": "code",
      "source": [
        "data_models = [[2, 16, 'binary_crossentropy', 'relu'], [1, 16, 'binary_crossentropy', 'relu'], [3, 16, 'binary_crossentropy', 'relu'], [2, 32, 'binary_crossentropy', 'relu'], [2, 64, 'binary_crossentropy', 'relu'], [2, 16, 'mse', 'relu'], [2, 16, 'binary_crossentropy', 'tanh'], [1, 16, 'mse', 'tanh'], [1, 16, 'binary_crossentropy', 'tanh']]"
      ],
      "metadata": {
        "id": "IxEmcxNsVrmJ"
      },
      "execution_count": 9,
      "outputs": []
    },
    {
      "cell_type": "code",
      "source": [
        "df = pandas.DataFrame(data_models, index=[1,2,3,4,5,6,7,8,9], columns=['# of Hidden Layers', '# of Hidden Units', 'Loss Function', 'Activation'])\n",
        "print(df)"
      ],
      "metadata": {
        "colab": {
          "base_uri": "https://localhost:8080/"
        },
        "id": "yKwuP-VIYCHB",
        "outputId": "ee93f869-636e-460d-e9cc-a529d7bea933"
      },
      "execution_count": 10,
      "outputs": [
        {
          "output_type": "stream",
          "name": "stdout",
          "text": [
            "   # of Hidden Layers  # of Hidden Units        Loss Function Activation\n",
            "1                   2                 16  binary_crossentropy       relu\n",
            "2                   1                 16  binary_crossentropy       relu\n",
            "3                   3                 16  binary_crossentropy       relu\n",
            "4                   2                 32  binary_crossentropy       relu\n",
            "5                   2                 64  binary_crossentropy       relu\n",
            "6                   2                 16                  mse       relu\n",
            "7                   2                 16  binary_crossentropy       tanh\n",
            "8                   1                 16                  mse       tanh\n",
            "9                   1                 16  binary_crossentropy       tanh\n"
          ]
        }
      ]
    },
    {
      "cell_type": "code",
      "source": [
        "data_avgs = [[88.34, 87.69], [88.88, 88.26], [88.52, 87.94], [88.09, 87.31], [87.13, 86.06], [88.33, 87.88], [88.48, 87.78], [88.67, 88.31], [88.86, 88.30]]"
      ],
      "metadata": {
        "id": "SYpIVI0IbnoC"
      },
      "execution_count": 13,
      "outputs": []
    },
    {
      "cell_type": "code",
      "source": [
        "df2 = pandas.DataFrame(data_avgs, index=[1,2,3,4,5,6,7,8,9], columns=['Validation Accuracy', 'Test Accuracy'])\n",
        "print(df2)"
      ],
      "metadata": {
        "colab": {
          "base_uri": "https://localhost:8080/"
        },
        "id": "-ue92VINBVnR",
        "outputId": "4ff04c85-ca24-4433-f1f1-0fc0f5b99e0b"
      },
      "execution_count": 14,
      "outputs": [
        {
          "output_type": "stream",
          "name": "stdout",
          "text": [
            "   Validation Accuracy  Test Accuracy\n",
            "1                88.34          87.69\n",
            "2                88.88          88.26\n",
            "3                88.52          87.94\n",
            "4                88.09          87.31\n",
            "5                87.13          86.06\n",
            "6                88.33          87.88\n",
            "7                88.48          87.78\n",
            "8                88.67          88.31\n",
            "9                88.86          88.30\n"
          ]
        }
      ]
    },
    {
      "cell_type": "code",
      "source": [
        "plot = df2.plot.bar(ylim=(86.0, 89.0), rot= 0, title=\"Model Performance\")\n",
        "plot.set_xlabel(\"Model Number\")\n",
        "plot.set_ylabel(\"Accuracy (%)\")\n",
        "plot"
      ],
      "metadata": {
        "colab": {
          "base_uri": "https://localhost:8080/",
          "height": 507
        },
        "id": "VIzrd9x9Epw3",
        "outputId": "c46a1123-5e77-42c8-864d-8ca6eb088e2c"
      },
      "execution_count": 15,
      "outputs": [
        {
          "output_type": "execute_result",
          "data": {
            "text/plain": [
              "<Axes: title={'center': 'Model Performance'}, xlabel='Model Number', ylabel='Accuracy (%)'>"
            ]
          },
          "metadata": {},
          "execution_count": 15
        },
        {
          "output_type": "display_data",
          "data": {
            "text/plain": [
              "<Figure size 640x480 with 1 Axes>"
            ],
            "image/png": "[encoded data removed]"
          },
          "metadata": {}
        }
      ]
    },
    {
      "cell_type": "markdown",
      "source": [
        "## In conclusion, all nine model validation and test accuracies fell within a relatively narrow range between roughy 86.0% and 89.0%. Additionally, all models were built using epoch = 4 after analysis determined this was the best epoch value. Increasing the number of hidden units negatively impacted model performance, as displayed by the lowest validation and test accuracies in models 4 and 5. Adjusting the loss function had minimal impact on model performance (model 6), while utilizing the tanh activation marginally improved model performance (model 7). Lastly, using only one hidden layer had the largest impact on improving model performance (models 2, 8, 9).\n",
        "\n",
        "## Model 9 (1 hidden layer, 16 hidden units, binary_crossentropy loss function, tanh activation) overall had the best performance with 88.86% validation accuracy and 88.30% test accuracy. Model 2 (1 hidden layer, 16 hidden units, binary_crossentropy loss function, relu activation) was a very close second with 88.88% validation accuracy and 88.26% test accuracy."
      ],
      "metadata": {
        "id": "TskhiFF0cbn8"
      }
    }
  ]
}